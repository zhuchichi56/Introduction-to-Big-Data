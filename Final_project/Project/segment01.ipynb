{
 "cells": [
  {
   "cell_type": "code",
   "execution_count": 1,
   "metadata": {
    "collapsed": true,
    "pycharm": {
     "name": "#%%\n"
    }
   },
   "outputs": [],
   "source": [
    "import pandas as pd\n",
    "import numpy as np\n",
    "from tqdm import tqdm\n",
    "import warnings\n",
    "warnings.filterwarnings('ignore')"
   ]
  },
  {
   "cell_type": "code",
   "execution_count": 7,
   "outputs": [
    {
     "data": {
      "text/plain": "          No  year  month  day  hour  pm2.5  DEWP  TEMP    PRES cbwd     Iws  \\\n0          1  2010      1    1     0   <NA>   -21 -11.0  1021.0   NW    1.79   \n1          2  2010      1    1     1   <NA>   -21 -12.0  1020.0   NW    4.92   \n2          3  2010      1    1     2   <NA>   -21 -11.0  1019.0   NW    6.71   \n3          4  2010      1    1     3   <NA>   -21 -14.0  1019.0   NW    9.84   \n4          5  2010      1    1     4   <NA>   -20 -12.0  1018.0   NW   12.97   \n...      ...   ...    ...  ...   ...    ...   ...   ...     ...  ...     ...   \n43819  43820  2014     12   31    19      8   -23  -2.0  1034.0   NW  231.97   \n43820  43821  2014     12   31    20     10   -22  -3.0  1034.0   NW  237.78   \n43821  43822  2014     12   31    21     10   -22  -3.0  1034.0   NW   242.7   \n43822  43823  2014     12   31    22      8   -22  -4.0  1034.0   NW  246.72   \n43823  43824  2014     12   31    23     12   -21  -3.0  1034.0   NW  249.85   \n\n       Is  Ir  \n0       0   0  \n1       0   0  \n2       0   0  \n3       0   0  \n4       0   0  \n...    ..  ..  \n43819   0   0  \n43820   0   0  \n43821   0   0  \n43822   0   0  \n43823   0   0  \n\n[43824 rows x 13 columns]",
      "text/html": "<div>\n<style scoped>\n    .dataframe tbody tr th:only-of-type {\n        vertical-align: middle;\n    }\n\n    .dataframe tbody tr th {\n        vertical-align: top;\n    }\n\n    .dataframe thead th {\n        text-align: right;\n    }\n</style>\n<table border=\"1\" class=\"dataframe\">\n  <thead>\n    <tr style=\"text-align: right;\">\n      <th></th>\n      <th>No</th>\n      <th>year</th>\n      <th>month</th>\n      <th>day</th>\n      <th>hour</th>\n      <th>pm2.5</th>\n      <th>DEWP</th>\n      <th>TEMP</th>\n      <th>PRES</th>\n      <th>cbwd</th>\n      <th>Iws</th>\n      <th>Is</th>\n      <th>Ir</th>\n    </tr>\n  </thead>\n  <tbody>\n    <tr>\n      <th>0</th>\n      <td>1</td>\n      <td>2010</td>\n      <td>1</td>\n      <td>1</td>\n      <td>0</td>\n      <td>&lt;NA&gt;</td>\n      <td>-21</td>\n      <td>-11.0</td>\n      <td>1021.0</td>\n      <td>NW</td>\n      <td>1.79</td>\n      <td>0</td>\n      <td>0</td>\n    </tr>\n    <tr>\n      <th>1</th>\n      <td>2</td>\n      <td>2010</td>\n      <td>1</td>\n      <td>1</td>\n      <td>1</td>\n      <td>&lt;NA&gt;</td>\n      <td>-21</td>\n      <td>-12.0</td>\n      <td>1020.0</td>\n      <td>NW</td>\n      <td>4.92</td>\n      <td>0</td>\n      <td>0</td>\n    </tr>\n    <tr>\n      <th>2</th>\n      <td>3</td>\n      <td>2010</td>\n      <td>1</td>\n      <td>1</td>\n      <td>2</td>\n      <td>&lt;NA&gt;</td>\n      <td>-21</td>\n      <td>-11.0</td>\n      <td>1019.0</td>\n      <td>NW</td>\n      <td>6.71</td>\n      <td>0</td>\n      <td>0</td>\n    </tr>\n    <tr>\n      <th>3</th>\n      <td>4</td>\n      <td>2010</td>\n      <td>1</td>\n      <td>1</td>\n      <td>3</td>\n      <td>&lt;NA&gt;</td>\n      <td>-21</td>\n      <td>-14.0</td>\n      <td>1019.0</td>\n      <td>NW</td>\n      <td>9.84</td>\n      <td>0</td>\n      <td>0</td>\n    </tr>\n    <tr>\n      <th>4</th>\n      <td>5</td>\n      <td>2010</td>\n      <td>1</td>\n      <td>1</td>\n      <td>4</td>\n      <td>&lt;NA&gt;</td>\n      <td>-20</td>\n      <td>-12.0</td>\n      <td>1018.0</td>\n      <td>NW</td>\n      <td>12.97</td>\n      <td>0</td>\n      <td>0</td>\n    </tr>\n    <tr>\n      <th>...</th>\n      <td>...</td>\n      <td>...</td>\n      <td>...</td>\n      <td>...</td>\n      <td>...</td>\n      <td>...</td>\n      <td>...</td>\n      <td>...</td>\n      <td>...</td>\n      <td>...</td>\n      <td>...</td>\n      <td>...</td>\n      <td>...</td>\n    </tr>\n    <tr>\n      <th>43819</th>\n      <td>43820</td>\n      <td>2014</td>\n      <td>12</td>\n      <td>31</td>\n      <td>19</td>\n      <td>8</td>\n      <td>-23</td>\n      <td>-2.0</td>\n      <td>1034.0</td>\n      <td>NW</td>\n      <td>231.97</td>\n      <td>0</td>\n      <td>0</td>\n    </tr>\n    <tr>\n      <th>43820</th>\n      <td>43821</td>\n      <td>2014</td>\n      <td>12</td>\n      <td>31</td>\n      <td>20</td>\n      <td>10</td>\n      <td>-22</td>\n      <td>-3.0</td>\n      <td>1034.0</td>\n      <td>NW</td>\n      <td>237.78</td>\n      <td>0</td>\n      <td>0</td>\n    </tr>\n    <tr>\n      <th>43821</th>\n      <td>43822</td>\n      <td>2014</td>\n      <td>12</td>\n      <td>31</td>\n      <td>21</td>\n      <td>10</td>\n      <td>-22</td>\n      <td>-3.0</td>\n      <td>1034.0</td>\n      <td>NW</td>\n      <td>242.7</td>\n      <td>0</td>\n      <td>0</td>\n    </tr>\n    <tr>\n      <th>43822</th>\n      <td>43823</td>\n      <td>2014</td>\n      <td>12</td>\n      <td>31</td>\n      <td>22</td>\n      <td>8</td>\n      <td>-22</td>\n      <td>-4.0</td>\n      <td>1034.0</td>\n      <td>NW</td>\n      <td>246.72</td>\n      <td>0</td>\n      <td>0</td>\n    </tr>\n    <tr>\n      <th>43823</th>\n      <td>43824</td>\n      <td>2014</td>\n      <td>12</td>\n      <td>31</td>\n      <td>23</td>\n      <td>12</td>\n      <td>-21</td>\n      <td>-3.0</td>\n      <td>1034.0</td>\n      <td>NW</td>\n      <td>249.85</td>\n      <td>0</td>\n      <td>0</td>\n    </tr>\n  </tbody>\n</table>\n<p>43824 rows × 13 columns</p>\n</div>"
     },
     "execution_count": 7,
     "metadata": {},
     "output_type": "execute_result"
    }
   ],
   "source": [
    "\n",
    "text = pd.read_csv(\"PRSA_data.csv\",encoding='unicode_escape').convert_dtypes()\n",
    "text.isnull().sum()\n",
    "text"
   ],
   "metadata": {
    "collapsed": false,
    "pycharm": {
     "name": "#%%\n"
    }
   }
  },
  {
   "cell_type": "code",
   "execution_count": 8,
   "outputs": [
    {
     "data": {
      "text/plain": "       NE  NW  SE  cv\n0       0   1   0   0\n1       0   1   0   0\n2       0   1   0   0\n3       0   1   0   0\n4       0   1   0   0\n...    ..  ..  ..  ..\n43819   0   1   0   0\n43820   0   1   0   0\n43821   0   1   0   0\n43822   0   1   0   0\n43823   0   1   0   0\n\n[43824 rows x 4 columns]",
      "text/html": "<div>\n<style scoped>\n    .dataframe tbody tr th:only-of-type {\n        vertical-align: middle;\n    }\n\n    .dataframe tbody tr th {\n        vertical-align: top;\n    }\n\n    .dataframe thead th {\n        text-align: right;\n    }\n</style>\n<table border=\"1\" class=\"dataframe\">\n  <thead>\n    <tr style=\"text-align: right;\">\n      <th></th>\n      <th>NE</th>\n      <th>NW</th>\n      <th>SE</th>\n      <th>cv</th>\n    </tr>\n  </thead>\n  <tbody>\n    <tr>\n      <th>0</th>\n      <td>0</td>\n      <td>1</td>\n      <td>0</td>\n      <td>0</td>\n    </tr>\n    <tr>\n      <th>1</th>\n      <td>0</td>\n      <td>1</td>\n      <td>0</td>\n      <td>0</td>\n    </tr>\n    <tr>\n      <th>2</th>\n      <td>0</td>\n      <td>1</td>\n      <td>0</td>\n      <td>0</td>\n    </tr>\n    <tr>\n      <th>3</th>\n      <td>0</td>\n      <td>1</td>\n      <td>0</td>\n      <td>0</td>\n    </tr>\n    <tr>\n      <th>4</th>\n      <td>0</td>\n      <td>1</td>\n      <td>0</td>\n      <td>0</td>\n    </tr>\n    <tr>\n      <th>...</th>\n      <td>...</td>\n      <td>...</td>\n      <td>...</td>\n      <td>...</td>\n    </tr>\n    <tr>\n      <th>43819</th>\n      <td>0</td>\n      <td>1</td>\n      <td>0</td>\n      <td>0</td>\n    </tr>\n    <tr>\n      <th>43820</th>\n      <td>0</td>\n      <td>1</td>\n      <td>0</td>\n      <td>0</td>\n    </tr>\n    <tr>\n      <th>43821</th>\n      <td>0</td>\n      <td>1</td>\n      <td>0</td>\n      <td>0</td>\n    </tr>\n    <tr>\n      <th>43822</th>\n      <td>0</td>\n      <td>1</td>\n      <td>0</td>\n      <td>0</td>\n    </tr>\n    <tr>\n      <th>43823</th>\n      <td>0</td>\n      <td>1</td>\n      <td>0</td>\n      <td>0</td>\n    </tr>\n  </tbody>\n</table>\n<p>43824 rows × 4 columns</p>\n</div>"
     },
     "execution_count": 8,
     "metadata": {},
     "output_type": "execute_result"
    }
   ],
   "source": [
    "dummies = pd.get_dummies(text['cbwd'])  #对Car Model字段用get_dummies数字化\n",
    "merged = pd.concat([text,dummies],axis='columns')\n",
    "text = merged.drop(['cbwd'],axis='columns')\n",
    "dummies"
   ],
   "metadata": {
    "collapsed": false,
    "pycharm": {
     "name": "#%%\n"
    }
   }
  },
  {
   "cell_type": "code",
   "execution_count": 5,
   "outputs": [
    {
     "data": {
      "text/plain": "(          No  year month day hour pm2.5 DEWP  TEMP    PRES     Iws Is Ir NE  \\\n 0          1  2010     1   1    0  <NA>  -21 -11.0  1021.0    1.79  0  0  0   \n 1          2  2010     1   1    1  <NA>  -21 -12.0  1020.0    4.92  0  0  0   \n 2          3  2010     1   1    2  <NA>  -21 -11.0  1019.0    6.71  0  0  0   \n 3          4  2010     1   1    3  <NA>  -21 -14.0  1019.0    9.84  0  0  0   \n 4          5  2010     1   1    4  <NA>  -20 -12.0  1018.0   12.97  0  0  0   \n ...      ...   ...   ...  ..  ...   ...  ...   ...     ...     ... .. .. ..   \n 43819  43820  2014    12  31   19     8  -23  -2.0  1034.0  231.97  0  0  0   \n 43820  43821  2014    12  31   20    10  -22  -3.0  1034.0  237.78  0  0  0   \n 43821  43822  2014    12  31   21    10  -22  -3.0  1034.0   242.7  0  0  0   \n 43822  43823  2014    12  31   22     8  -22  -4.0  1034.0  246.72  0  0  0   \n 43823  43824  2014    12  31   23    12  -21  -3.0  1034.0  249.85  0  0  0   \n \n       NW SE cv  \n 0      1  0  0  \n 1      1  0  0  \n 2      1  0  0  \n 3      1  0  0  \n 4      1  0  0  \n ...   .. .. ..  \n 43819  1  0  0  \n 43820  1  0  0  \n 43821  1  0  0  \n 43822  1  0  0  \n 43823  1  0  0  \n \n [37584 rows x 16 columns],\n           No  year month day hour pm2.5 DEWP  TEMP    PRES   Iws Is Ir NE NW  \\\n 144      145  2010     1   7    0   127  -21 -16.0  1035.0  8.95  0  0  0  1   \n 145      146  2010     1   7    1   130  -21 -16.0  1035.0  0.45  0  0  0  0   \n 146      147  2010     1   7    2    43  -22 -18.0  1036.0  1.34  0  0  0  0   \n 147      148  2010     1   7    3    37  -23 -15.0  1036.0  4.02  0  0  0  1   \n 148      149  2010     1   7    4    30  -24 -16.0  1035.0  7.15  0  0  0  1   \n ...      ...   ...   ...  ..  ...   ...  ...   ...     ...   ... .. .. .. ..   \n 43675  43676  2014    12  25   19    49  -11  -1.0  1032.0  2.67  0  0  0  0   \n 43676  43677  2014    12  25   20    52  -11  -2.0  1032.0  1.79  0  0  0  0   \n 43677  43678  2014    12  25   21    50  -11   0.0  1033.0  0.89  0  0  0  0   \n 43678  43679  2014    12  25   22    51  -12  -3.0  1033.0  0.89  0  0  0  0   \n 43679  43680  2014    12  25   23    69  -11  -2.0  1033.0  2.68  0  0  0  0   \n \n       SE cv  \n 144    0  0  \n 145    0  1  \n 146    0  1  \n 147    0  0  \n 148    0  0  \n ...   .. ..  \n 43675  0  1  \n 43676  1  0  \n 43677  0  1  \n 43678  1  0  \n 43679  1  0  \n \n [6240 rows x 16 columns])"
     },
     "execution_count": 5,
     "metadata": {},
     "output_type": "execute_result"
    }
   ],
   "source": [
    "\n",
    "def generate_dataset(data):\n",
    "#先划分数据集\n",
    "    Train_set=pd.DataFrame(columns=data.columns)\n",
    "    Test_set=pd.DataFrame(columns=data.columns)\n",
    "    text_data =data.groupby(['year','month','day'])\n",
    "    for index,(name,data)  in enumerate(text_data):\n",
    "        if((index+1)%7 ==0):\n",
    "            Test_set =Test_set.append(data)\n",
    "        else:\n",
    "            Train_set = Train_set.append(data)\n",
    "\n",
    "    return Train_set,Test_set\n",
    "Train_set,Test_set =generate_dataset(text)"
   ],
   "metadata": {
    "collapsed": false,
    "pycharm": {
     "name": "#%%\n"
    }
   }
  },
  {
   "cell_type": "code",
   "execution_count": null,
   "outputs": [],
   "source": [
    "#缺失值进行处理：\n",
    "Train_set  = Train_set.dropna()\n",
    "Test_set= Test_set.dropna()\n",
    "Train_set = Train_set.astype('int')\n",
    "Test_set =Test_set.astype('int')"
   ],
   "metadata": {
    "collapsed": false,
    "pycharm": {
     "name": "#%%\n"
    }
   }
  },
  {
   "cell_type": "code",
   "execution_count": 5,
   "outputs": [],
   "source": [
    "#这个可能会有异常值\n",
    "text['DEWP'].value_counts()\n",
    "text['TEMP'].value_counts()\n",
    "text['PRES'].value_counts()\n",
    "\n"
   ],
   "metadata": {
    "collapsed": false,
    "pycharm": {
     "name": "#%%\n"
    }
   }
  },
  {
   "cell_type": "code",
   "execution_count": 8,
   "outputs": [],
   "source": [
    "\n",
    "Y_train = Train_set['pm2.5']\n",
    "X_train = Train_set.drop(['pm2.5'],axis='columns')\n",
    "\n",
    "Y_test = Test_set['pm2.5']\n",
    "X_test = Test_set.drop(['pm2.5'],axis='columns')\n"
   ],
   "metadata": {
    "collapsed": false,
    "pycharm": {
     "name": "#%%\n"
    }
   }
  },
  {
   "cell_type": "code",
   "execution_count": 9,
   "outputs": [
    {
     "data": {
      "text/plain": "0.2954569659782572"
     },
     "execution_count": 9,
     "metadata": {},
     "output_type": "execute_result"
    }
   ],
   "source": [
    "#普通的线性回归\n",
    "from sklearn.linear_model import LinearRegression\n",
    "model = LinearRegression()\n",
    "model.fit(X_train,Y_train)  #用LinearRegression拟合训练数据\n",
    "model.score(X_test,Y_test)  #计算得分\n"
   ],
   "metadata": {
    "collapsed": false,
    "pycharm": {
     "name": "#%%\n"
    }
   }
  },
  {
   "cell_type": "code",
   "execution_count": 10,
   "outputs": [
    {
     "data": {
      "text/plain": "0.0017225859653987874"
     },
     "execution_count": 10,
     "metadata": {},
     "output_type": "execute_result"
    }
   ],
   "source": [
    "from sklearn.linear_model import RidgeCV\n",
    "alphas = np.logspace(-10,10,200)\n",
    "lr_cv = RidgeCV(alphas=alphas).fit(X_train,Y_train)\n",
    "lr_cv.alpha_"
   ],
   "metadata": {
    "collapsed": false,
    "pycharm": {
     "name": "#%%\n"
    }
   }
  },
  {
   "cell_type": "code",
   "execution_count": 11,
   "outputs": [
    {
     "data": {
      "text/plain": "0.296672964938143"
     },
     "execution_count": 11,
     "metadata": {},
     "output_type": "execute_result"
    }
   ],
   "source": [
    "from sklearn.linear_model import Ridge\n",
    "lr = Ridge()\n",
    "# lr = Ridge(alpha=0.0017225859653987874)\n",
    "lr.fit(X_train,Y_train)\n",
    "lr.score(X_test,Y_test)\n"
   ],
   "metadata": {
    "collapsed": false,
    "pycharm": {
     "name": "#%%\n"
    }
   }
  },
  {
   "cell_type": "code",
   "execution_count": null,
   "outputs": [],
   "source": [],
   "metadata": {
    "collapsed": false,
    "pycharm": {
     "name": "#%%\n"
    }
   }
  }
 ],
 "metadata": {
  "kernelspec": {
   "display_name": "Python 3",
   "language": "python",
   "name": "python3"
  },
  "language_info": {
   "codemirror_mode": {
    "name": "ipython",
    "version": 2
   },
   "file_extension": ".py",
   "mimetype": "text/x-python",
   "name": "python",
   "nbconvert_exporter": "python",
   "pygments_lexer": "ipython2",
   "version": "2.7.6"
  }
 },
 "nbformat": 4,
 "nbformat_minor": 0
}