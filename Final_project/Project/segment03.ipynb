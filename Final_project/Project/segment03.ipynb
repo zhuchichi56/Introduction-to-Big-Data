{
 "cells": [
  {
   "cell_type": "code",
   "execution_count": 1,
   "outputs": [],
   "source": [
    "import pandas as pd\n",
    "import numpy as np\n",
    "from tqdm import tqdm\n",
    "import matplotlib.pyplot as plt\n",
    "import warnings\n",
    "from chinese_calendar import is_workday, is_holiday\n",
    "import chinese_calendar as calendar\n",
    "import time, datetime\n",
    "from  tqdm import tqdm\n",
    "import numba\n",
    "from numba import jit\n",
    "warnings.filterwarnings('ignore')\n",
    "text = pd.read_csv(\"PRSA_data.csv\",encoding='unicode_escape').convert_dtypes()\n",
    "text.isnull().sum()\n",
    "text['pm2.5'].astype('float')\n",
    "\n",
    "\n",
    "# one-hot encoding\n",
    "text['cbwd'].unique()\n",
    "text = text.join(pd.get_dummies(text['cbwd']).astype('float'))\n",
    "del text['cbwd']"
   ],
   "metadata": {
    "collapsed": false,
    "pycharm": {
     "name": "#%%\n"
    }
   }
  },
  {
   "cell_type": "code",
   "execution_count": 56,
   "outputs": [],
   "source": [
    "\n",
    "def generate_dataset(data):\n",
    "\n",
    "    Train_set=pd.DataFrame(columns=data.columns)\n",
    "    Test_set=pd.DataFrame(columns=data.columns)\n",
    "    text_data =data.groupby(['year','month','day'])\n",
    "    for index,(name,data)  in enumerate(text_data):\n",
    "        if((index+1)%7 ==0):\n",
    "            Test_set =Test_set.append(data)\n",
    "        else:\n",
    "            Train_set = Train_set.append(data)\n",
    "    return Train_set,Test_set\n",
    "Train_set ,Test_set = generate_dataset(data=text)\n",
    "\n"
   ],
   "metadata": {
    "collapsed": false,
    "pycharm": {
     "name": "#%%\n"
    }
   }
  },
  {
   "cell_type": "code",
   "execution_count": 57,
   "outputs": [],
   "source": [
    "from sklearn.ensemble import RandomForestRegressor\n",
    "from sklearn.impute import KNNImputer\n",
    "\n",
    "def missForest(train_set):\n",
    "\n",
    "    x_train =train_set.dropna()\n",
    "    y_train = x_train.pop('pm2.5')\n",
    "\n",
    "    #找到y是空的值;\n",
    "    index =train_set[train_set['pm2.5'].isna()].index\n",
    "    x_test =train_set.loc[index,:]\n",
    "    x_test.pop('pm2.5')\n",
    "    rfc = RandomForestRegressor(n_estimators=100)\n",
    "    rfc = rfc.fit(x_train,y_train)\n",
    "    Ypredict = rfc.predict(x_test)\n",
    "\n",
    "    #返回填充好的值\n",
    "    data  =train_set.copy()\n",
    "    # data['pm2.5'] =data['pm2.5'].astype('float')\n",
    "    data.loc[data['pm2.5'].isnull(),'pm2.5'] = Ypredict\n",
    "    return data\n",
    "def missKnn(train_set):\n",
    "    data = train_set.copy()\n",
    "    #将NA转化成nan\n",
    "    data['pm2.5'] = pd.to_numeric(data['pm2.5'], errors='coerce')\n",
    "    imputer = KNNImputer(n_neighbors=6)\n",
    "    data_ = imputer.fit_transform(data)\n",
    "    data_ =pd.DataFrame(data_,columns=train_set.columns)\n",
    "    return data_\n",
    "\n",
    "missforest_fill_in =missForest(Train_set)\n",
    "missKnn_fill_in = missKnn(Train_set)\n",
    "average_fill_in=Train_set.fillna(int(Train_set['pm2.5'].mean()))\n",
    "median_fill_in=Train_set.fillna(int(Train_set['pm2.5'].median()))"
   ],
   "metadata": {
    "collapsed": false,
    "pycharm": {
     "name": "#%%\n"
    }
   }
  },
  {
   "cell_type": "code",
   "execution_count": null,
   "outputs": [],
   "source": [
    "from xgboost import XGBRegressor\n",
    "def get_score(trainset,testset):\n",
    "    trainset =trainset.astype(\"float\")\n",
    "    testset =testset.astype(\"float\")\n",
    "    train_set=trainset.copy()\n",
    "    test_set=testset.copy()\n",
    "    Y_train =train_set['pm2.5']\n",
    "    Y_test =test_set['pm2.5']\n",
    "    del train_set['pm2.5']\n",
    "    del test_set['pm2.5']\n",
    "    X_train = train_set\n",
    "    X_test =test_set\n",
    "\n",
    "    model = XGBRegressor()\n",
    "    model.fit(X_train,Y_train)\n",
    "    score = model.score(X_test,Y_test)\n",
    "    return score\n",
    "\n",
    "t_s= Test_set.dropna()\n",
    "train_s =Train_set.dropna()\n",
    "Scores=[]\n",
    "dropna_scores = get_score(train_s,t_s)\n",
    "average_scores = get_score(average_fill_in,t_s)\n",
    "median_scores = get_score(median_fill_in,t_s)\n",
    "missKnn_scores = get_score(missKnn_fill_in,t_s)\n",
    "foreset_scores = get_score(missforest_fill_in,t_s)\n",
    "Scores.append(dropna_scores)\n",
    "Scores.append(average_scores)\n",
    "Scores.append(median_scores)\n",
    "Scores.append(missKnn_scores)\n",
    "Scores.append(foreset_scores)\n",
    "\n",
    "plt.plot(range(1,6),Scores)\n"
   ],
   "metadata": {
    "collapsed": false,
    "pycharm": {
     "name": "#%%\n"
    }
   }
  },
  {
   "cell_type": "code",
   "execution_count": null,
   "outputs": [],
   "source": [
    "Scores"
   ],
   "metadata": {
    "collapsed": false,
    "pycharm": {
     "name": "#%%\n"
    }
   }
  },
  {
   "cell_type": "code",
   "execution_count": null,
   "outputs": [],
   "source": [],
   "metadata": {
    "collapsed": false,
    "pycharm": {
     "name": "#%%\n"
    }
   }
  },
  {
   "cell_type": "code",
   "execution_count": null,
   "outputs": [],
   "source": [],
   "metadata": {
    "collapsed": false,
    "pycharm": {
     "name": "#%%\n"
    }
   }
  }
 ],
 "metadata": {
  "kernelspec": {
   "display_name": "Python 3",
   "language": "python",
   "name": "python3"
  },
  "language_info": {
   "codemirror_mode": {
    "name": "ipython",
    "version": 2
   },
   "file_extension": ".py",
   "mimetype": "text/x-python",
   "name": "python",
   "nbconvert_exporter": "python",
   "pygments_lexer": "ipython2",
   "version": "2.7.6"
  }
 },
 "nbformat": 4,
 "nbformat_minor": 0
}