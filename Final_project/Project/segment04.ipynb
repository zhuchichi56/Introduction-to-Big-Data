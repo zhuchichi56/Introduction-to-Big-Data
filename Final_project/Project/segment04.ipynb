{
 "cells": [
  {
   "cell_type": "code",
   "execution_count": 2,
   "outputs": [],
   "source": [
    "import pandas as pd\n",
    "import numpy as np\n",
    "import warnings\n",
    "warnings.filterwarnings('ignore')\n",
    "from chinese_calendar import is_workday, is_holiday\n",
    "import chinese_calendar as calendar\n",
    "import time, datetime\n",
    "from numba import jit\n"
   ],
   "metadata": {
    "collapsed": false,
    "pycharm": {
     "name": "#%%\n"
    }
   }
  },
  {
   "cell_type": "code",
   "execution_count": 3,
   "outputs": [],
   "source": [
    "\n",
    "text = pd.read_csv(\"PRSA_data.csv\").convert_dtypes()\n"
   ],
   "metadata": {
    "collapsed": false,
    "pycharm": {
     "name": "#%%\n"
    }
   }
  },
  {
   "cell_type": "code",
   "execution_count": 4,
   "outputs": [],
   "source": [
    "#preprocess:\n",
    "\n",
    "#1.feature genertating\n",
    "#\n",
    "# text['time'] = text.apply(lambda x : datetime.datetime(year=x['year'], month=x['month'], day=x['day'], hour=x['hour']), axis=1)\n",
    "# text = text.set_index('time')\n",
    "\n",
    "\n",
    "#北风强度值\n",
    "def transform_north(x):\n",
    "    if(x.cbwd=='NE' or x.cbwd=='NW'):\n",
    "        return x.Iws\n",
    "    else: return 0\n",
    "\n",
    "text['N_E'] = text.apply(lambda x: transform_north(x),axis=1 )\n",
    "\n",
    "\n",
    "def transform_four_period(x):\n",
    "    if(0<=x and x<=6): return 'night'\n",
    "    elif(x<=12): return 'morning'\n",
    "    elif(x<=18): return 'afternoon'\n",
    "    else :return 'evening'\n",
    "text['period'] = text.apply(lambda x: transform_four_period(x.hour),axis=1 )\n",
    "\n",
    "#spring, summer, fall, winter\n",
    "\n",
    "def transform_four_season(x):\n",
    "    if(3<=x and x<=5): return 'spring'\n",
    "    elif(x<=8): return 'summer'\n",
    "    elif(x<=10): return 'fall'\n",
    "    else :return 'winter'\n",
    "text['season'] = text.apply(lambda x: transform_four_season(x.month),axis=1 )\n",
    "\n",
    "#the week (weekdays, weekends, or holidays)\n",
    "def transform_four_Week(year,month,day):\n",
    "    now_date = datetime.date(year, month, day)\n",
    "    on_holiday, holiday_name = calendar.get_holiday_detail(now_date)\n",
    "    if(on_holiday): return 'weekends' if holiday_name is None else 'holiday'\n",
    "    elif(is_workday(now_date)):return 'workday'\n",
    "    else: return 'weekends'\n",
    "text['Week'] = text.apply(lambda x: transform_four_Week(x.year,x.month,x.day),axis=1 )\n",
    "\n",
    "\n",
    "\n",
    "def norm_to_float(c):\n",
    "    element = text[c].unique()\n",
    "    dictionary = dict(zip(element,range(0,len(element)))) #反转\n",
    "    text[c] = text.apply(lambda x:dictionary[x[c]],axis=1)\n",
    "    return dictionary\n",
    "dict_period = norm_to_float('period')\n",
    "dict_season = norm_to_float('season')\n",
    "dict_Week = norm_to_float('Week')\n",
    "# dict_PM2_5 = norm_to_float('pm2.5')\n",
    "\n",
    "\n",
    "\n",
    "\n",
    "\n",
    "def transform_four_segment(x):\n",
    "    if(8<=x and x<=9): return 'Morning_rush '\n",
    "    elif(x<=17): return 'Work'\n",
    "    elif(x<=19): return 'Evening_rush'\n",
    "    else :return 'Home'\n",
    "text['segment'] = text.apply(lambda x: transform_four_period(x.hour),axis=1 )\n",
    "dict_Segment = norm_to_float('segment')\n",
    "\n",
    "\n",
    "text['diff'] = text['DEWP']-text['N_E']\n",
    "\n",
    "from sklearn.decomposition import PCA\n",
    "pca  = PCA(n_components=1)\n",
    "text['composition'] = pca.fit_transform(list(zip(text['DEWP'],-text['N_E'])))\n",
    "\n",
    "\n",
    "\n",
    "text['cbwd'].unique()\n",
    "text = text.join(pd.get_dummies(text['cbwd']).astype('float'))\n",
    "del text['cbwd']\n",
    "\n",
    "#2.processing the missing value\n",
    "#from the segment3 ,this is the best choice :fill with mean\n",
    "#We using the text to fillin to simplify ; The right way is to fill in with Train_set\n",
    "text=text.fillna(int(text['pm2.5'].mean()))"
   ],
   "metadata": {
    "collapsed": false,
    "pycharm": {
     "name": "#%%\n"
    }
   }
  },
  {
   "cell_type": "code",
   "execution_count": 5,
   "outputs": [],
   "source": [
    "\n",
    "#time period of the day (e.g, morning, afternoon, evening, night)\n",
    "def generate_dataset(data):\n",
    "    #先划分数据集\n",
    "    Train_set=pd.DataFrame(columns=text.columns)\n",
    "    Test_set=pd.DataFrame(columns=text.columns)\n",
    "    text_data =data.groupby(['year','month','day'])\n",
    "    for index,(name,data)  in enumerate(text_data):\n",
    "        if((index+1)%7 ==0):\n",
    "            Test_set =Test_set.append(data)\n",
    "        else:\n",
    "            Train_set = Train_set.append(data)\n",
    "\n",
    "    return Train_set,Test_set\n",
    "Train_set,Test_set = generate_dataset(text)\n",
    "\n"
   ],
   "metadata": {
    "collapsed": false,
    "pycharm": {
     "name": "#%%\n"
    }
   }
  },
  {
   "cell_type": "code",
   "execution_count": 6,
   "outputs": [],
   "source": [
    "from xgboost import XGBClassifier,XGBRegressor\n",
    "from sklearn.utils import shuffle\n",
    "\n",
    "#shuffle True: 打乱顺序  select = \"Regression\" or other\n",
    "def get_score(trainset,testset,select,shuffle=False):\n",
    "\n",
    "    if(shuffle==True):\n",
    "        trainset = shuffle(trainset)\n",
    "        testset = shuffle(testset)\n",
    "    x_train =trainset.astype(\"float\")\n",
    "    x_test =testset.astype(\"float\")\n",
    "\n",
    "    y_train =x_train.pop('pm2.5')\n",
    "    y_test =x_test.pop('pm2.5')\n",
    "    if(select=='Regression'):\n",
    "        model = XGBRegressor()\n",
    "    else:\n",
    "        model = XGBClassifier()\n",
    "    model.fit(x_train,y_train)\n",
    "    predict = model.predict(x_test)\n",
    "    score = model.score(x_test,y_test)\n",
    "    return score,predict,y_test"
   ],
   "metadata": {
    "collapsed": false,
    "pycharm": {
     "name": "#%%\n"
    }
   }
  },
  {
   "cell_type": "code",
   "execution_count": 7,
   "outputs": [
    {
     "data": {
      "text/plain": "0.6851234386468754"
     },
     "execution_count": 7,
     "metadata": {},
     "output_type": "execute_result"
    }
   ],
   "source": [
    "scores,prediction,_ = get_score(Train_set,Test_set,'Regression')\n",
    "scores"
   ],
   "metadata": {
    "collapsed": false,
    "pycharm": {
     "name": "#%%\n"
    }
   }
  },
  {
   "cell_type": "code",
   "execution_count": 8,
   "outputs": [],
   "source": [
    "\n",
    "from sklearn.utils import shuffle\n",
    "Train_set = shuffle(Train_set)\n",
    "Test_set = shuffle(Test_set)\n",
    "X_train = Train_set.astype('float')\n",
    "Y_train  = X_train.pop('pm2.5')\n",
    "X_test =Test_set.astype('float')\n",
    "Y_test =X_test.pop('pm2.5')"
   ],
   "metadata": {
    "collapsed": false,
    "pycharm": {
     "name": "#%%\n"
    }
   }
  },
  {
   "cell_type": "code",
   "execution_count": 9,
   "outputs": [
    {
     "name": "stdout",
     "output_type": "stream",
     "text": [
      "0.6462167082047333\n"
     ]
    },
    {
     "data": {
      "text/plain": "        feature  importance\n16         diff    0.198812\n0            No    0.182466\n6          TEMP    0.105255\n3           day    0.102244\n2         month    0.089655\n5          DEWP    0.079716\n7          PRES    0.072655\n17  composition    0.034462\n4          hour    0.031143\n8           Iws    0.025557\n13       season    0.023644\n14         Week    0.020181\n1          year    0.009216\n11          N_E    0.005164\n15      segment    0.003735\n12       period    0.003564\n9            Is    0.002711\n10           Ir    0.002654\n20           SE    0.002384\n19           NW    0.001912\n18           NE    0.001545\n21           cv    0.001323",
      "text/html": "<div>\n<style scoped>\n    .dataframe tbody tr th:only-of-type {\n        vertical-align: middle;\n    }\n\n    .dataframe tbody tr th {\n        vertical-align: top;\n    }\n\n    .dataframe thead th {\n        text-align: right;\n    }\n</style>\n<table border=\"1\" class=\"dataframe\">\n  <thead>\n    <tr style=\"text-align: right;\">\n      <th></th>\n      <th>feature</th>\n      <th>importance</th>\n    </tr>\n  </thead>\n  <tbody>\n    <tr>\n      <th>16</th>\n      <td>diff</td>\n      <td>0.198812</td>\n    </tr>\n    <tr>\n      <th>0</th>\n      <td>No</td>\n      <td>0.182466</td>\n    </tr>\n    <tr>\n      <th>6</th>\n      <td>TEMP</td>\n      <td>0.105255</td>\n    </tr>\n    <tr>\n      <th>3</th>\n      <td>day</td>\n      <td>0.102244</td>\n    </tr>\n    <tr>\n      <th>2</th>\n      <td>month</td>\n      <td>0.089655</td>\n    </tr>\n    <tr>\n      <th>5</th>\n      <td>DEWP</td>\n      <td>0.079716</td>\n    </tr>\n    <tr>\n      <th>7</th>\n      <td>PRES</td>\n      <td>0.072655</td>\n    </tr>\n    <tr>\n      <th>17</th>\n      <td>composition</td>\n      <td>0.034462</td>\n    </tr>\n    <tr>\n      <th>4</th>\n      <td>hour</td>\n      <td>0.031143</td>\n    </tr>\n    <tr>\n      <th>8</th>\n      <td>Iws</td>\n      <td>0.025557</td>\n    </tr>\n    <tr>\n      <th>13</th>\n      <td>season</td>\n      <td>0.023644</td>\n    </tr>\n    <tr>\n      <th>14</th>\n      <td>Week</td>\n      <td>0.020181</td>\n    </tr>\n    <tr>\n      <th>1</th>\n      <td>year</td>\n      <td>0.009216</td>\n    </tr>\n    <tr>\n      <th>11</th>\n      <td>N_E</td>\n      <td>0.005164</td>\n    </tr>\n    <tr>\n      <th>15</th>\n      <td>segment</td>\n      <td>0.003735</td>\n    </tr>\n    <tr>\n      <th>12</th>\n      <td>period</td>\n      <td>0.003564</td>\n    </tr>\n    <tr>\n      <th>9</th>\n      <td>Is</td>\n      <td>0.002711</td>\n    </tr>\n    <tr>\n      <th>10</th>\n      <td>Ir</td>\n      <td>0.002654</td>\n    </tr>\n    <tr>\n      <th>20</th>\n      <td>SE</td>\n      <td>0.002384</td>\n    </tr>\n    <tr>\n      <th>19</th>\n      <td>NW</td>\n      <td>0.001912</td>\n    </tr>\n    <tr>\n      <th>18</th>\n      <td>NE</td>\n      <td>0.001545</td>\n    </tr>\n    <tr>\n      <th>21</th>\n      <td>cv</td>\n      <td>0.001323</td>\n    </tr>\n  </tbody>\n</table>\n</div>"
     },
     "execution_count": 9,
     "metadata": {},
     "output_type": "execute_result"
    }
   ],
   "source": [
    "#Feature Selection:\n",
    "#RandomForestRegressor\n",
    "from sklearn.ensemble import RandomForestRegressor\n",
    "trees = RandomForestRegressor(n_estimators=150,random_state=0)\n",
    "trees.fit(X_train,Y_train)\n",
    "score = trees.score(X_test,Y_test)\n",
    "print(score)\n",
    "pd.DataFrame(\n",
    "    {'feature': list(X_train.columns),'importance': trees.feature_importances_}).sort_values('importance', ascending = False)"
   ],
   "metadata": {
    "collapsed": false,
    "pycharm": {
     "name": "#%%\n"
    }
   }
  },
  {
   "cell_type": "code",
   "execution_count": 10,
   "outputs": [
    {
     "data": {
      "text/plain": "<AxesSubplot:title={'center':'Feature importance'}, xlabel='F score', ylabel='Features'>"
     },
     "execution_count": 10,
     "metadata": {},
     "output_type": "execute_result"
    },
    {
     "data": {
      "text/plain": "<Figure size 432x288 with 1 Axes>",
      "image/png": "[encoded data removed]"
     },
     "metadata": {
      "needs_background": "light"
     },
     "output_type": "display_data"
    }
   ],
   "source": [
    "#XGBoosting\n",
    "model = XGBRegressor()\n",
    "model.fit(X_train,Y_train)\n",
    "score = model.score(X_test,Y_test)\n",
    "import xgboost as xgb\n",
    "xgb.plot_importance(model)"
   ],
   "metadata": {
    "collapsed": false,
    "pycharm": {
     "name": "#%%\n"
    }
   }
  },
  {
   "cell_type": "code",
   "execution_count": 11,
   "outputs": [
    {
     "data": {
      "text/plain": "        day  DEWP   Is  season  Week   diff   SE   cv\n26624  14.0 -10.0  0.0     0.0   1.0 -10.00  0.0  1.0\n38484  23.0  12.0  0.0     1.0   1.0  12.00  1.0  0.0\n23107  20.0  20.0  0.0     0.0   1.0  16.87  0.0  0.0\n26735  18.0 -11.0  0.0     0.0   1.0 -15.02  0.0  0.0\n24091  30.0   6.0  0.0     2.0   0.0   6.00  1.0  0.0\n...     ...   ...  ...     ...   ...    ...  ...  ...\n5887    3.0  20.0  0.0     2.0   1.0  18.21  0.0  0.0\n23762  17.0  12.0  0.0     2.0   1.0   9.32  0.0  0.0\n1513    5.0 -10.0  0.0     1.0   1.0 -32.80  0.0  0.0\n19724   1.0  -8.0  0.0     1.0   1.0  -8.00  1.0  0.0\n26498   9.0 -22.0  0.0     0.0   1.0 -29.15  0.0  0.0\n\n[37584 rows x 8 columns]",
      "text/html": "<div>\n<style scoped>\n    .dataframe tbody tr th:only-of-type {\n        vertical-align: middle;\n    }\n\n    .dataframe tbody tr th {\n        vertical-align: top;\n    }\n\n    .dataframe thead th {\n        text-align: right;\n    }\n</style>\n<table border=\"1\" class=\"dataframe\">\n  <thead>\n    <tr style=\"text-align: right;\">\n      <th></th>\n      <th>day</th>\n      <th>DEWP</th>\n      <th>Is</th>\n      <th>season</th>\n      <th>Week</th>\n      <th>diff</th>\n      <th>SE</th>\n      <th>cv</th>\n    </tr>\n  </thead>\n  <tbody>\n    <tr>\n      <th>26624</th>\n      <td>14.0</td>\n      <td>-10.0</td>\n      <td>0.0</td>\n      <td>0.0</td>\n      <td>1.0</td>\n      <td>-10.00</td>\n      <td>0.0</td>\n      <td>1.0</td>\n    </tr>\n    <tr>\n      <th>38484</th>\n      <td>23.0</td>\n      <td>12.0</td>\n      <td>0.0</td>\n      <td>1.0</td>\n      <td>1.0</td>\n      <td>12.00</td>\n      <td>1.0</td>\n      <td>0.0</td>\n    </tr>\n    <tr>\n      <th>23107</th>\n      <td>20.0</td>\n      <td>20.0</td>\n      <td>0.0</td>\n      <td>0.0</td>\n      <td>1.0</td>\n      <td>16.87</td>\n      <td>0.0</td>\n      <td>0.0</td>\n    </tr>\n    <tr>\n      <th>26735</th>\n      <td>18.0</td>\n      <td>-11.0</td>\n      <td>0.0</td>\n      <td>0.0</td>\n      <td>1.0</td>\n      <td>-15.02</td>\n      <td>0.0</td>\n      <td>0.0</td>\n    </tr>\n    <tr>\n      <th>24091</th>\n      <td>30.0</td>\n      <td>6.0</td>\n      <td>0.0</td>\n      <td>2.0</td>\n      <td>0.0</td>\n      <td>6.00</td>\n      <td>1.0</td>\n      <td>0.0</td>\n    </tr>\n    <tr>\n      <th>...</th>\n      <td>...</td>\n      <td>...</td>\n      <td>...</td>\n      <td>...</td>\n      <td>...</td>\n      <td>...</td>\n      <td>...</td>\n      <td>...</td>\n    </tr>\n    <tr>\n      <th>5887</th>\n      <td>3.0</td>\n      <td>20.0</td>\n      <td>0.0</td>\n      <td>2.0</td>\n      <td>1.0</td>\n      <td>18.21</td>\n      <td>0.0</td>\n      <td>0.0</td>\n    </tr>\n    <tr>\n      <th>23762</th>\n      <td>17.0</td>\n      <td>12.0</td>\n      <td>0.0</td>\n      <td>2.0</td>\n      <td>1.0</td>\n      <td>9.32</td>\n      <td>0.0</td>\n      <td>0.0</td>\n    </tr>\n    <tr>\n      <th>1513</th>\n      <td>5.0</td>\n      <td>-10.0</td>\n      <td>0.0</td>\n      <td>1.0</td>\n      <td>1.0</td>\n      <td>-32.80</td>\n      <td>0.0</td>\n      <td>0.0</td>\n    </tr>\n    <tr>\n      <th>19724</th>\n      <td>1.0</td>\n      <td>-8.0</td>\n      <td>0.0</td>\n      <td>1.0</td>\n      <td>1.0</td>\n      <td>-8.00</td>\n      <td>1.0</td>\n      <td>0.0</td>\n    </tr>\n    <tr>\n      <th>26498</th>\n      <td>9.0</td>\n      <td>-22.0</td>\n      <td>0.0</td>\n      <td>0.0</td>\n      <td>1.0</td>\n      <td>-29.15</td>\n      <td>0.0</td>\n      <td>0.0</td>\n    </tr>\n  </tbody>\n</table>\n<p>37584 rows × 8 columns</p>\n</div>"
     },
     "execution_count": 11,
     "metadata": {},
     "output_type": "execute_result"
    }
   ],
   "source": [
    "## 皮尔逊相关系数\n",
    "from scipy.stats import pearsonr\n",
    "from sklearn.feature_selection import SelectKBest\n",
    "# Y_predict=model.predict(X_test)\n",
    "func_pearson = lambda X,y: list (np.array ([pearsonr (x,y) for x in X.T]).T)\n",
    "X_filtered = SelectKBest(func_pearson, k = 5).fit_transform(X_train, Y_train)\n",
    "skb=SelectKBest(func_pearson,k=8)\n",
    "skb.fit(X_train,Y_train)\n",
    "index =skb.get_support(indices=True)\n",
    "index = pd.Series(index)\n",
    "X_train.iloc[:,index]"
   ],
   "metadata": {
    "collapsed": false,
    "pycharm": {
     "name": "#%%\n"
    }
   }
  },
  {
   "cell_type": "code",
   "execution_count": 12,
   "outputs": [
    {
     "data": {
      "text/plain": "            No  DEWP    Iws    N_E   diff  composition   NW   SE\n26624  26625.0 -10.0   1.78   0.00 -10.00   -15.595786  0.0  0.0\n38484  38485.0  12.0  22.35   0.00  12.00   -18.008142  0.0  1.0\n23107  23108.0  20.0   3.13   3.13  16.87   -15.774237  0.0  0.0\n26735  26736.0 -11.0   4.02   4.02 -15.02   -11.490374  1.0  0.0\n24091  24092.0   6.0   7.16   0.00   6.00   -17.350227  0.0  1.0\n...        ...   ...    ...    ...    ...          ...  ...  ...\n5887    5888.0  20.0   1.79   1.79  18.21   -17.106157  1.0  0.0\n23762  23763.0  12.0   2.68   2.68   9.32   -15.344303  1.0  0.0\n1513    1514.0 -10.0  22.80  22.80 -32.80     7.066730  1.0  0.0\n19724  19725.0  -8.0  64.81   0.00  -8.00   -15.815091  0.0  1.0\n26498  26499.0 -22.0   7.15   7.15 -29.15    -7.173070  1.0  0.0\n\n[37584 rows x 8 columns]",
      "text/html": "<div>\n<style scoped>\n    .dataframe tbody tr th:only-of-type {\n        vertical-align: middle;\n    }\n\n    .dataframe tbody tr th {\n        vertical-align: top;\n    }\n\n    .dataframe thead th {\n        text-align: right;\n    }\n</style>\n<table border=\"1\" class=\"dataframe\">\n  <thead>\n    <tr style=\"text-align: right;\">\n      <th></th>\n      <th>No</th>\n      <th>DEWP</th>\n      <th>Iws</th>\n      <th>N_E</th>\n      <th>diff</th>\n      <th>composition</th>\n      <th>NW</th>\n      <th>SE</th>\n    </tr>\n  </thead>\n  <tbody>\n    <tr>\n      <th>26624</th>\n      <td>26625.0</td>\n      <td>-10.0</td>\n      <td>1.78</td>\n      <td>0.00</td>\n      <td>-10.00</td>\n      <td>-15.595786</td>\n      <td>0.0</td>\n      <td>0.0</td>\n    </tr>\n    <tr>\n      <th>38484</th>\n      <td>38485.0</td>\n      <td>12.0</td>\n      <td>22.35</td>\n      <td>0.00</td>\n      <td>12.00</td>\n      <td>-18.008142</td>\n      <td>0.0</td>\n      <td>1.0</td>\n    </tr>\n    <tr>\n      <th>23107</th>\n      <td>23108.0</td>\n      <td>20.0</td>\n      <td>3.13</td>\n      <td>3.13</td>\n      <td>16.87</td>\n      <td>-15.774237</td>\n      <td>0.0</td>\n      <td>0.0</td>\n    </tr>\n    <tr>\n      <th>26735</th>\n      <td>26736.0</td>\n      <td>-11.0</td>\n      <td>4.02</td>\n      <td>4.02</td>\n      <td>-15.02</td>\n      <td>-11.490374</td>\n      <td>1.0</td>\n      <td>0.0</td>\n    </tr>\n    <tr>\n      <th>24091</th>\n      <td>24092.0</td>\n      <td>6.0</td>\n      <td>7.16</td>\n      <td>0.00</td>\n      <td>6.00</td>\n      <td>-17.350227</td>\n      <td>0.0</td>\n      <td>1.0</td>\n    </tr>\n    <tr>\n      <th>...</th>\n      <td>...</td>\n      <td>...</td>\n      <td>...</td>\n      <td>...</td>\n      <td>...</td>\n      <td>...</td>\n      <td>...</td>\n      <td>...</td>\n    </tr>\n    <tr>\n      <th>5887</th>\n      <td>5888.0</td>\n      <td>20.0</td>\n      <td>1.79</td>\n      <td>1.79</td>\n      <td>18.21</td>\n      <td>-17.106157</td>\n      <td>1.0</td>\n      <td>0.0</td>\n    </tr>\n    <tr>\n      <th>23762</th>\n      <td>23763.0</td>\n      <td>12.0</td>\n      <td>2.68</td>\n      <td>2.68</td>\n      <td>9.32</td>\n      <td>-15.344303</td>\n      <td>1.0</td>\n      <td>0.0</td>\n    </tr>\n    <tr>\n      <th>1513</th>\n      <td>1514.0</td>\n      <td>-10.0</td>\n      <td>22.80</td>\n      <td>22.80</td>\n      <td>-32.80</td>\n      <td>7.066730</td>\n      <td>1.0</td>\n      <td>0.0</td>\n    </tr>\n    <tr>\n      <th>19724</th>\n      <td>19725.0</td>\n      <td>-8.0</td>\n      <td>64.81</td>\n      <td>0.00</td>\n      <td>-8.00</td>\n      <td>-15.815091</td>\n      <td>0.0</td>\n      <td>1.0</td>\n    </tr>\n    <tr>\n      <th>26498</th>\n      <td>26499.0</td>\n      <td>-22.0</td>\n      <td>7.15</td>\n      <td>7.15</td>\n      <td>-29.15</td>\n      <td>-7.173070</td>\n      <td>1.0</td>\n      <td>0.0</td>\n    </tr>\n  </tbody>\n</table>\n<p>37584 rows × 8 columns</p>\n</div>"
     },
     "execution_count": 12,
     "metadata": {},
     "output_type": "execute_result"
    }
   ],
   "source": [
    "from minepy import MINE\n",
    "from sklearn.feature_selection import SelectKBest\n",
    "#由于MINE的设计不是函数式的，定义mic方法将其为函数式的，返回一个二元组，二元组的第2项设置成固定的P值0.5\n",
    "def mic(x, y):\n",
    "    m = MINE()\n",
    "    m.compute_score(x, y)\n",
    "    return (m.mic(), 0.5)\n",
    "# 选择K个最好的特征，返回特征选择后的数据\n",
    "func_mic = lambda X,y: list(np.array([mic(x,y) for x in X.T]).T)\n",
    "X_filtered_MIC = SelectKBest(func_mic,k = 8).fit(X_train.values,Y_train)\n",
    "index =X_filtered_MIC.get_support(indices=True)\n",
    "index = pd.Series(index)\n",
    "X_train.iloc[:,index]"
   ],
   "metadata": {
    "collapsed": false,
    "pycharm": {
     "name": "#%%\n"
    }
   }
  },
  {
   "cell_type": "code",
   "execution_count": 13,
   "outputs": [
    {
     "data": {
      "text/plain": "array([447121.40171972, 444841.17430507, 444575.19142183, 443544.92328496,\n       442858.51264899, 439027.42981589, 438768.97410345, 437883.39271447,\n       436115.45467365, 435812.32285005, 435719.7390968 , 435203.59594213,\n       435093.06114816, 433483.77673423, 433358.19866919, 432882.95271071,\n       432386.06076557, 432306.08895369, 432293.13069243, 432252.65405262,\n       432241.71516072, 432184.82271161, 432184.78447236, 432182.98953445,\n       432151.4636646 , 432151.42898969, 432102.13996889, 432091.23353152,\n       432064.85490765, 432064.85490759])"
     },
     "execution_count": 13,
     "metadata": {},
     "output_type": "execute_result"
    }
   ],
   "source": [
    "#关于Lasso进行筛选\n",
    "from sklearn.preprocessing import StandardScaler\n",
    "from sklearn.linear_model import LassoLarsIC\n",
    "from sklearn.pipeline import make_pipeline\n",
    "lasso_lars_aic = make_pipeline(\n",
    "    StandardScaler(),LassoLarsIC(criterion='aic')\n",
    ").fit(X_train,Y_train)\n",
    "lasso_lars_aic[-1].criterion_"
   ],
   "metadata": {
    "collapsed": false,
    "pycharm": {
     "name": "#%%\n"
    }
   }
  },
  {
   "cell_type": "code",
   "execution_count": 14,
   "outputs": [
    {
     "data": {
      "text/plain": "array([[26625.,  2013.,  1027.],\n       [38485.,  2014.,  1010.],\n       [23108.,  2012.,  1006.],\n       ...,\n       [ 1514.,  2010.,  1020.],\n       [19725.,  2012.,  1016.],\n       [26499.,  2013.,  1033.]])"
     },
     "execution_count": 14,
     "metadata": {},
     "output_type": "execute_result"
    }
   ],
   "source": [
    "from sklearn.feature_selection import SelectFromModel\n",
    "from sklearn.linear_model import LogisticRegression\n",
    "\n",
    "#带L1惩罚项的逻辑回归作为基模型的特征选择\n",
    "SelectFromModel(LogisticRegression(penalty=\"l2\", C=0.1)).fit_transform(X_train,Y_train)"
   ],
   "metadata": {
    "collapsed": false,
    "pycharm": {
     "name": "#%%\n"
    }
   }
  },
  {
   "cell_type": "code",
   "execution_count": 15,
   "outputs": [
    {
     "name": "stdout",
     "output_type": "stream",
     "text": [
      "各方向方差： [1.60224272e+08 1.16596027e+04 6.58307657e+03 5.08402907e+02\n",
      " 1.52719467e+02 7.69572532e+01 5.55797065e+01]\n",
      "方差所占比例： [9.99880790e-01 7.27618396e-05 4.10817396e-05 3.17269222e-06\n",
      " 9.53047000e-07 4.80252326e-07 3.46845583e-07]\n",
      "各方向的基： [[-9.99999873e-01 -1.09434306e-04 -5.51532856e-05 -1.16037625e-05\n",
      "  -2.99027358e-07  1.66726953e-04 -5.54815608e-05 -7.48328067e-05\n",
      "   2.03731775e-05  2.39601088e-04  1.67138541e-06  1.30232924e-06\n",
      "   1.97125896e-04 -4.64132102e-08 -1.33824991e-05 -1.68590205e-06\n",
      "  -4.64132102e-08 -2.52607456e-04  2.02020918e-04 -1.68767340e-07\n",
      "   1.61288889e-06 -3.74087940e-08 -1.40671275e-06]\n",
      " [ 2.90652561e-04 -4.29602816e-05  6.38851173e-04 -4.06170770e-03\n",
      "   2.29491394e-03 -5.37901028e-01 -5.43099163e-02 -2.02641650e-02\n",
      "   2.42872016e-02  3.95957635e-01 -7.40971075e-05  1.84268554e-04\n",
      "   4.08147496e-01  3.39871780e-04  1.39568853e-03 -1.72404853e-04\n",
      "   3.39871780e-04 -4.62457412e-01  4.11641579e-01 -1.21448314e-04\n",
      "   1.93824496e-03 -9.78397046e-04 -8.38399600e-04]\n",
      " [ 3.84409853e-04 -8.54633077e-06 -1.66061174e-04  6.82377690e-03\n",
      "  -3.70307698e-04  8.42547107e-01 -2.39476112e-02 -4.09428911e-02\n",
      "   2.03429692e-02  2.54795145e-01  1.99065540e-04 -1.12842045e-03\n",
      "   2.63770058e-01  2.90049311e-05  1.79812277e-03  1.45798493e-04\n",
      "   2.90049311e-05 -2.87717669e-01  2.64805435e-01 -3.04644181e-04\n",
      "   6.42365963e-04 -4.28422830e-04  9.07010482e-05]\n",
      " [-4.03260851e-05 -2.28287702e-03  2.74683477e-02  1.02694490e-02\n",
      "   2.54020893e-02  3.64219440e-03  5.40003449e-01  4.59640167e-01\n",
      "  -3.60575666e-01  4.15661748e-01 -1.19577202e-03  6.32153095e-03\n",
      "   1.24141806e-01  4.23535736e-03 -1.36680315e-02  1.74947514e-03\n",
      "   4.23535736e-03  4.15861643e-01  6.41804628e-02 -1.68979216e-03\n",
      "  -4.36734700e-03  7.23169186e-03 -1.17455271e-03]\n",
      " [ 5.63641785e-05  3.92237406e-03 -4.79649536e-02  2.14255083e-02\n",
      "   7.30166170e-02 -4.03993070e-03 -2.53571912e-01 -2.13572353e-01\n",
      "   1.82487620e-01  7.73977002e-01  7.51383885e-03 -7.22668092e-03\n",
      "  -3.59370526e-01  1.24213035e-02  5.08484833e-04  2.75522771e-04\n",
      "   1.24213035e-02  1.05798614e-01 -3.29398702e-01 -3.26831687e-03\n",
      "  -7.65191004e-03  1.62466381e-02 -5.32641123e-03]\n",
      " [ 1.42784511e-05  3.21675715e-03 -5.84397379e-03 -9.99496849e-01\n",
      "   1.37050960e-03  7.61822965e-03  2.34504771e-03 -1.17301700e-02\n",
      "  -9.87813752e-03  2.09942409e-02  3.86515884e-03 -6.97604755e-04\n",
      "  -5.43137396e-03  3.34542449e-04 -1.65291649e-03 -8.87084403e-03\n",
      "   3.34542449e-04  7.77642167e-03 -5.65576315e-03 -6.25676885e-05\n",
      "  -7.25410626e-04  7.97666543e-04 -9.68822846e-06]\n",
      " [ 7.98989048e-06 -3.41666508e-03  4.18665653e-02  3.12951551e-03\n",
      "  -8.48002834e-01 -1.36725979e-02  2.42892317e-01 -3.36745139e-01\n",
      "   1.76292291e-01  6.35236477e-02  5.22290012e-03  1.32118105e-02\n",
      "   7.41257357e-02 -1.31991869e-01  5.55092770e-03  7.40247966e-04\n",
      "  -1.31991869e-01  1.68766581e-01  4.70449892e-02  2.37004337e-03\n",
      "   5.40522075e-03 -1.05887904e-02  2.81352625e-03]]\n"
     ]
    }
   ],
   "source": [
    "\n",
    "\n",
    "from sklearn.decomposition import PCA\n",
    "pca = PCA(n_components=7, whiten=True, random_state=0)\n",
    "x = pca.fit_transform(Train_set) # arr.shape: sample_num * feature_num\n",
    "print('各方向方差：', pca.explained_variance_)          # 上述协方差矩阵C的特征值（排序后的）\n",
    "print('方差所占比例：', pca.explained_variance_ratio_)  # 上述协方差矩阵C的特征值在所有特征值加和中的占比\n",
    "print(\"各方向的基：\", pca.components_)                  # 新的坐标系的基\n",
    "pca_p = pca.components_"
   ],
   "metadata": {
    "collapsed": false,
    "pycharm": {
     "name": "#%%\n"
    }
   }
  },
  {
   "cell_type": "code",
   "execution_count": null,
   "outputs": [],
   "source": [],
   "metadata": {
    "collapsed": false,
    "pycharm": {
     "name": "#%%\n"
    }
   }
  },
  {
   "cell_type": "code",
   "execution_count": null,
   "outputs": [],
   "source": [
    "\n",
    "\n"
   ],
   "metadata": {
    "collapsed": false,
    "pycharm": {
     "name": "#%%\n"
    }
   }
  },
  {
   "cell_type": "code",
   "execution_count": null,
   "outputs": [],
   "source": [],
   "metadata": {
    "collapsed": false,
    "pycharm": {
     "name": "#%%\n"
    }
   }
  }
 ],
 "metadata": {
  "kernelspec": {
   "display_name": "Python 3",
   "language": "python",
   "name": "python3"
  },
  "language_info": {
   "codemirror_mode": {
    "name": "ipython",
    "version": 2
   },
   "file_extension": ".py",
   "mimetype": "text/x-python",
   "name": "python",
   "nbconvert_exporter": "python",
   "pygments_lexer": "ipython2",
   "version": "2.7.6"
  }
 },
 "nbformat": 4,
 "nbformat_minor": 0
}