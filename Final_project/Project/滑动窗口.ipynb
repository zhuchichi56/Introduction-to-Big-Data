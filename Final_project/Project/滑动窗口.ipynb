{
 "cells": [
  {
   "cell_type": "code",
   "execution_count": 2,
   "outputs": [
    {
     "data": {
      "text/plain": "No          0\nyear        0\nmonth       0\nday         0\nhour        0\npm2.5    2067\nDEWP        0\nTEMP        0\nPRES        0\ncbwd        0\nIws         0\nIs          0\nIr          0\ndtype: int64"
     },
     "execution_count": 2,
     "metadata": {},
     "output_type": "execute_result"
    }
   ],
   "source": [
    "import pandas as pd\n",
    "import numpy as np\n",
    "from tqdm import tqdm\n",
    "import matplotlib.pyplot as plt\n",
    "import warnings\n",
    "from chinese_calendar import is_workday, is_holiday\n",
    "import chinese_calendar as calendar\n",
    "import time, datetime\n",
    "from  tqdm import tqdm\n",
    "import numba\n",
    "from numba import jit\n",
    "warnings.filterwarnings('ignore')\n",
    "text = pd.read_csv(\"PRSA_data.csv\",encoding='unicode_escape').convert_dtypes()\n",
    "text.isnull().sum()\n"
   ],
   "metadata": {
    "collapsed": false,
    "pycharm": {
     "name": "#%%\n"
    }
   }
  },
  {
   "cell_type": "code",
   "execution_count": 3,
   "outputs": [],
   "source": [
    "#preprocess:\n",
    "\n",
    "#1.feature genertating\n",
    "#\n",
    "# text['time'] = text.apply(lambda x : datetime.datetime(year=x['year'], month=x['month'], day=x['day'], hour=x['hour']), axis=1)\n",
    "# text = text.set_index('time')\n",
    "\n",
    "\n",
    "#北风强度值\n",
    "def transform_north(x):\n",
    "    if(x.cbwd=='NE' or x.cbwd=='NW'):\n",
    "        return x.Iws\n",
    "    else: return 0\n",
    "\n",
    "text['N_E'] = text.apply(lambda x: transform_north(x),axis=1 )\n",
    "\n",
    "\n",
    "def transform_four_period(x):\n",
    "    if(0<=x and x<=6): return 'night'\n",
    "    elif(x<=12): return 'morning'\n",
    "    elif(x<=18): return 'afternoon'\n",
    "    else :return 'evening'\n",
    "text['period'] = text.apply(lambda x: transform_four_period(x.hour),axis=1 )\n",
    "\n",
    "#spring, summer, fall, winter\n",
    "\n",
    "def transform_four_season(x):\n",
    "    if(3<=x and x<=5): return 'spring'\n",
    "    elif(x<=8): return 'summer'\n",
    "    elif(x<=10): return 'fall'\n",
    "    else :return 'winter'\n",
    "text['season'] = text.apply(lambda x: transform_four_season(x.month),axis=1 )\n",
    "\n",
    "#the week (weekdays, weekends, or holidays)\n",
    "def transform_four_Week(year,month,day):\n",
    "    now_date = datetime.date(year, month, day)\n",
    "    on_holiday, holiday_name = calendar.get_holiday_detail(now_date)\n",
    "    if(on_holiday): return 'weekends' if holiday_name is None else 'holiday'\n",
    "    elif(is_workday(now_date)):return 'workday'\n",
    "    else: return 'weekends'\n",
    "text['Week'] = text.apply(lambda x: transform_four_Week(x.year,x.month,x.day),axis=1 )\n",
    "\n",
    "\n",
    "\n",
    "def norm_to_float(c):\n",
    "    element = text[c].unique()\n",
    "    dictionary = dict(zip(element,range(0,len(element)))) #反转\n",
    "    text[c] = text.apply(lambda x:dictionary[x[c]],axis=1)\n",
    "    return dictionary\n",
    "dict_period = norm_to_float('period')\n",
    "dict_season = norm_to_float('season')\n",
    "dict_Week = norm_to_float('Week')\n",
    "# dict_PM2_5 = norm_to_float('pm2.5')\n",
    "\n",
    "\n",
    "\n",
    "\n",
    "\n",
    "def transform_four_segment(x):\n",
    "    if(8<=x and x<=9): return 'Morning_rush '\n",
    "    elif(x<=17): return 'Work'\n",
    "    elif(x<=19): return 'Evening_rush'\n",
    "    else :return 'Home'\n",
    "text['segment'] = text.apply(lambda x: transform_four_period(x.hour),axis=1 )\n",
    "dict_Segment = norm_to_float('segment')\n",
    "\n",
    "\n",
    "text['diff'] = text['DEWP']-text['N_E']\n",
    "\n",
    "from sklearn.decomposition import PCA\n",
    "pca  = PCA(n_components=1)\n",
    "text['composition'] = pca.fit_transform(list(zip(text['DEWP'],-text['N_E'])))\n",
    "\n",
    "\n",
    "\n",
    "text['cbwd'].unique()\n",
    "text = text.join(pd.get_dummies(text['cbwd']).astype('float'))\n",
    "del text['cbwd']\n",
    "\n",
    "#2.processing the missing value\n",
    "#from the segment3 ,this is the best choice :fill with mean\n",
    "#We using the text to fillin to simplify ; The right way is to fill in with Train_set\n",
    "text=text.fillna(int(text['pm2.5'].mean()))"
   ],
   "metadata": {
    "collapsed": false,
    "pycharm": {
     "name": "#%%\n"
    }
   }
  },
  {
   "cell_type": "code",
   "execution_count": 4,
   "outputs": [],
   "source": [
    "def transform_three_kinds(x):\n",
    "    if(x<=35) :return 'low'\n",
    "    elif(x<=150): return 'polluting '\n",
    "    else:return 'very high'\n",
    "text['pm2.5'] =text.apply(lambda x: transform_three_kinds(x['pm2.5']),axis=1)\n",
    "dict_PM2_5 = norm_to_float('pm2.5')"
   ],
   "metadata": {
    "collapsed": false,
    "pycharm": {
     "name": "#%%\n"
    }
   }
  },
  {
   "cell_type": "code",
   "execution_count": 5,
   "outputs": [],
   "source": [
    "#区分训练集和测试集:\n",
    "def generate_dataset(data):\n",
    "    #先划分数据集\n",
    "    Train_set=pd.DataFrame(columns=text.columns)\n",
    "    Test_set=pd.DataFrame(columns=text.columns)\n",
    "    text_data =data.groupby(['year','month','day'])\n",
    "    for index,(name,data)  in enumerate(text_data):\n",
    "        if((index+1)%7 ==0):\n",
    "            Test_set =Test_set.append(data)\n",
    "        else:\n",
    "            Train_set = Train_set.append(data)\n",
    "\n",
    "    return Train_set,Test_set\n",
    "Train_set,Test_set = generate_dataset(text)"
   ],
   "metadata": {
    "collapsed": false,
    "pycharm": {
     "name": "#%%\n"
    }
   }
  },
  {
   "cell_type": "code",
   "execution_count": 108,
   "outputs": [],
   "source": [
    "sub_train_test =Train_set.loc[:,['DEWP','TEMP','PRES','Iws','Is','Ir']]"
   ],
   "metadata": {
    "collapsed": false,
    "pycharm": {
     "name": "#%%\n"
    }
   }
  },
  {
   "cell_type": "code",
   "execution_count": 109,
   "outputs": [],
   "source": [
    "rolling_array = sub_train_test.rolling(3).mean()"
   ],
   "metadata": {
    "collapsed": false,
    "pycharm": {
     "name": "#%%\n"
    }
   }
  },
  {
   "cell_type": "code",
   "execution_count": 110,
   "outputs": [],
   "source": [
    "new_Train_set = Train_set.copy()\n",
    "\n",
    "for i in ['DEWP','TEMP','PRES','Iws','Is','Ir']:\n",
    "    new_Train_set[i] = rolling_array[i]\n"
   ],
   "metadata": {
    "collapsed": false,
    "pycharm": {
     "name": "#%%\n"
    }
   }
  },
  {
   "cell_type": "code",
   "execution_count": 111,
   "outputs": [],
   "source": [
    "new_Train_set.dropna(inplace=True)\n"
   ],
   "metadata": {
    "collapsed": false,
    "pycharm": {
     "name": "#%%\n"
    }
   }
  },
  {
   "cell_type": "code",
   "execution_count": 112,
   "outputs": [
    {
     "data": {
      "text/plain": "          No  year month day hour pm2.5       DEWP       TEMP         PRES  \\\n2          3  2010     1   1    2    98 -21.000000 -11.333333  1020.000000   \n3          4  2010     1   1    3    98 -21.000000 -12.333333  1019.333333   \n4          5  2010     1   1    4    98 -20.666667 -12.333333  1018.666667   \n5          6  2010     1   1    5    98 -20.000000 -12.000000  1018.000000   \n6          7  2010     1   1    6    98 -19.333333 -10.333333  1017.333333   \n...      ...   ...   ...  ..  ...   ...        ...        ...          ...   \n43819  43820  2014    12  31   19     8 -22.333333  -1.666667  1033.333333   \n43820  43821  2014    12  31   20    10 -22.333333  -2.333333  1033.666667   \n43821  43822  2014    12  31   21    10 -22.333333  -2.666667  1034.000000   \n43822  43823  2014    12  31   22     8 -22.000000  -3.333333  1034.000000   \n43823  43824  2014    12  31   23    12 -21.666667  -3.333333  1034.000000   \n\n              Iws   Is   Ir   NE   NW   SE   cv period season Week  \n2        4.473333  0.0  0.0  0.0  1.0  0.0  0.0      0      0    0  \n3        7.156667  0.0  0.0  0.0  1.0  0.0  0.0      0      0    0  \n4        9.840000  0.0  0.0  0.0  1.0  0.0  0.0      0      0    0  \n5       12.970000  0.0  0.0  0.0  1.0  0.0  0.0      0      0    0  \n6       16.100000  0.0  0.0  0.0  1.0  0.0  0.0      0      0    0  \n...           ...  ...  ...  ...  ...  ...  ...    ...    ...  ...  \n43819  226.456667  0.0  0.0  0.0  1.0  0.0  0.0      3      3    1  \n43820  231.970000  0.0  0.0  0.0  1.0  0.0  0.0      3      3    1  \n43821  237.483333  0.0  0.0  0.0  1.0  0.0  0.0      3      3    1  \n43822  242.400000  0.0  0.0  0.0  1.0  0.0  0.0      3      3    1  \n43823  246.423333  0.0  0.0  0.0  1.0  0.0  0.0      3      3    1  \n\n[37582 rows x 19 columns]",
      "text/html": "<div>\n<style scoped>\n    .dataframe tbody tr th:only-of-type {\n        vertical-align: middle;\n    }\n\n    .dataframe tbody tr th {\n        vertical-align: top;\n    }\n\n    .dataframe thead th {\n        text-align: right;\n    }\n</style>\n<table border=\"1\" class=\"dataframe\">\n  <thead>\n    <tr style=\"text-align: right;\">\n      <th></th>\n      <th>No</th>\n      <th>year</th>\n      <th>month</th>\n      <th>day</th>\n      <th>hour</th>\n      <th>pm2.5</th>\n      <th>DEWP</th>\n      <th>TEMP</th>\n      <th>PRES</th>\n      <th>Iws</th>\n      <th>Is</th>\n      <th>Ir</th>\n      <th>NE</th>\n      <th>NW</th>\n      <th>SE</th>\n      <th>cv</th>\n      <th>period</th>\n      <th>season</th>\n      <th>Week</th>\n    </tr>\n  </thead>\n  <tbody>\n    <tr>\n      <th>2</th>\n      <td>3</td>\n      <td>2010</td>\n      <td>1</td>\n      <td>1</td>\n      <td>2</td>\n      <td>98</td>\n      <td>-21.000000</td>\n      <td>-11.333333</td>\n      <td>1020.000000</td>\n      <td>4.473333</td>\n      <td>0.0</td>\n      <td>0.0</td>\n      <td>0.0</td>\n      <td>1.0</td>\n      <td>0.0</td>\n      <td>0.0</td>\n      <td>0</td>\n      <td>0</td>\n      <td>0</td>\n    </tr>\n    <tr>\n      <th>3</th>\n      <td>4</td>\n      <td>2010</td>\n      <td>1</td>\n      <td>1</td>\n      <td>3</td>\n      <td>98</td>\n      <td>-21.000000</td>\n      <td>-12.333333</td>\n      <td>1019.333333</td>\n      <td>7.156667</td>\n      <td>0.0</td>\n      <td>0.0</td>\n      <td>0.0</td>\n      <td>1.0</td>\n      <td>0.0</td>\n      <td>0.0</td>\n      <td>0</td>\n      <td>0</td>\n      <td>0</td>\n    </tr>\n    <tr>\n      <th>4</th>\n      <td>5</td>\n      <td>2010</td>\n      <td>1</td>\n      <td>1</td>\n      <td>4</td>\n      <td>98</td>\n      <td>-20.666667</td>\n      <td>-12.333333</td>\n      <td>1018.666667</td>\n      <td>9.840000</td>\n      <td>0.0</td>\n      <td>0.0</td>\n      <td>0.0</td>\n      <td>1.0</td>\n      <td>0.0</td>\n      <td>0.0</td>\n      <td>0</td>\n      <td>0</td>\n      <td>0</td>\n    </tr>\n    <tr>\n      <th>5</th>\n      <td>6</td>\n      <td>2010</td>\n      <td>1</td>\n      <td>1</td>\n      <td>5</td>\n      <td>98</td>\n      <td>-20.000000</td>\n      <td>-12.000000</td>\n      <td>1018.000000</td>\n      <td>12.970000</td>\n      <td>0.0</td>\n      <td>0.0</td>\n      <td>0.0</td>\n      <td>1.0</td>\n      <td>0.0</td>\n      <td>0.0</td>\n      <td>0</td>\n      <td>0</td>\n      <td>0</td>\n    </tr>\n    <tr>\n      <th>6</th>\n      <td>7</td>\n      <td>2010</td>\n      <td>1</td>\n      <td>1</td>\n      <td>6</td>\n      <td>98</td>\n      <td>-19.333333</td>\n      <td>-10.333333</td>\n      <td>1017.333333</td>\n      <td>16.100000</td>\n      <td>0.0</td>\n      <td>0.0</td>\n      <td>0.0</td>\n      <td>1.0</td>\n      <td>0.0</td>\n      <td>0.0</td>\n      <td>0</td>\n      <td>0</td>\n      <td>0</td>\n    </tr>\n    <tr>\n      <th>...</th>\n      <td>...</td>\n      <td>...</td>\n      <td>...</td>\n      <td>...</td>\n      <td>...</td>\n      <td>...</td>\n      <td>...</td>\n      <td>...</td>\n      <td>...</td>\n      <td>...</td>\n      <td>...</td>\n      <td>...</td>\n      <td>...</td>\n      <td>...</td>\n      <td>...</td>\n      <td>...</td>\n      <td>...</td>\n      <td>...</td>\n      <td>...</td>\n    </tr>\n    <tr>\n      <th>43819</th>\n      <td>43820</td>\n      <td>2014</td>\n      <td>12</td>\n      <td>31</td>\n      <td>19</td>\n      <td>8</td>\n      <td>-22.333333</td>\n      <td>-1.666667</td>\n      <td>1033.333333</td>\n      <td>226.456667</td>\n      <td>0.0</td>\n      <td>0.0</td>\n      <td>0.0</td>\n      <td>1.0</td>\n      <td>0.0</td>\n      <td>0.0</td>\n      <td>3</td>\n      <td>3</td>\n      <td>1</td>\n    </tr>\n    <tr>\n      <th>43820</th>\n      <td>43821</td>\n      <td>2014</td>\n      <td>12</td>\n      <td>31</td>\n      <td>20</td>\n      <td>10</td>\n      <td>-22.333333</td>\n      <td>-2.333333</td>\n      <td>1033.666667</td>\n      <td>231.970000</td>\n      <td>0.0</td>\n      <td>0.0</td>\n      <td>0.0</td>\n      <td>1.0</td>\n      <td>0.0</td>\n      <td>0.0</td>\n      <td>3</td>\n      <td>3</td>\n      <td>1</td>\n    </tr>\n    <tr>\n      <th>43821</th>\n      <td>43822</td>\n      <td>2014</td>\n      <td>12</td>\n      <td>31</td>\n      <td>21</td>\n      <td>10</td>\n      <td>-22.333333</td>\n      <td>-2.666667</td>\n      <td>1034.000000</td>\n      <td>237.483333</td>\n      <td>0.0</td>\n      <td>0.0</td>\n      <td>0.0</td>\n      <td>1.0</td>\n      <td>0.0</td>\n      <td>0.0</td>\n      <td>3</td>\n      <td>3</td>\n      <td>1</td>\n    </tr>\n    <tr>\n      <th>43822</th>\n      <td>43823</td>\n      <td>2014</td>\n      <td>12</td>\n      <td>31</td>\n      <td>22</td>\n      <td>8</td>\n      <td>-22.000000</td>\n      <td>-3.333333</td>\n      <td>1034.000000</td>\n      <td>242.400000</td>\n      <td>0.0</td>\n      <td>0.0</td>\n      <td>0.0</td>\n      <td>1.0</td>\n      <td>0.0</td>\n      <td>0.0</td>\n      <td>3</td>\n      <td>3</td>\n      <td>1</td>\n    </tr>\n    <tr>\n      <th>43823</th>\n      <td>43824</td>\n      <td>2014</td>\n      <td>12</td>\n      <td>31</td>\n      <td>23</td>\n      <td>12</td>\n      <td>-21.666667</td>\n      <td>-3.333333</td>\n      <td>1034.000000</td>\n      <td>246.423333</td>\n      <td>0.0</td>\n      <td>0.0</td>\n      <td>0.0</td>\n      <td>1.0</td>\n      <td>0.0</td>\n      <td>0.0</td>\n      <td>3</td>\n      <td>3</td>\n      <td>1</td>\n    </tr>\n  </tbody>\n</table>\n<p>37582 rows × 19 columns</p>\n</div>"
     },
     "execution_count": 112,
     "metadata": {},
     "output_type": "execute_result"
    }
   ],
   "source": [
    "new_Train_set\n"
   ],
   "metadata": {
    "collapsed": false,
    "pycharm": {
     "name": "#%%\n"
    }
   }
  },
  {
   "cell_type": "code",
   "execution_count": 113,
   "outputs": [
    {
     "data": {
      "text/plain": "<Figure size 1440x1440 with 2 Axes>",
      "image/png": "[encoded data removed]"
     },
     "metadata": {
      "needs_background": "light"
     },
     "output_type": "display_data"
    }
   ],
   "source": [
    "import seaborn as sns\n",
    "ax = sns.heatmap(new_Train_set.corr(), annot=True, cmap=\"YlGnBu\")\n",
    "ax.figure.set_size_inches(20,20)"
   ],
   "metadata": {
    "collapsed": false,
    "pycharm": {
     "name": "#%%\n"
    }
   }
  },
  {
   "cell_type": "code",
   "execution_count": 12,
   "outputs": [],
   "source": [
    "from xgboost import XGBClassifier,XGBRegressor\n",
    "from sklearn.utils import shuffle\n",
    "\n",
    "#shuffle True: 打乱顺序  select = \"Regression\" or other\n",
    "def get_score(trainset,testset,select,shuffle=False):\n",
    "\n",
    "    if(shuffle==True):\n",
    "        trainset = shuffle(trainset)\n",
    "        testset = shuffle(testset)\n",
    "    x_train =trainset.astype(\"float\")\n",
    "    x_test =testset.astype(\"float\")\n",
    "\n",
    "    y_train =x_train.pop('pm2.5')\n",
    "    y_test =x_test.pop('pm2.5')\n",
    "    if(select=='Regression'):\n",
    "        model = XGBRegressor( objective='reg:linear',\n",
    "                              colsample_bytree=0.3,\n",
    "                              learning_rate=0.1,\n",
    "                              max_depth=5,\n",
    "                              n_estimators=5000,\n",
    "                              alpha=10)\n",
    "    else:\n",
    "        model = XGBClassifier( objective='reg:linear',\n",
    "                               colsample_bytree=0.3,\n",
    "                               learning_rate=0.1,\n",
    "                               max_depth=5,\n",
    "                               n_estimators=5000,\n",
    "                               alpha=10)\n",
    "    model.fit(x_train,y_train)\n",
    "    predict = model.predict(x_test)\n",
    "    score = model.score(x_test,y_test)\n",
    "    return score,predict,y_test"
   ],
   "metadata": {
    "collapsed": false,
    "pycharm": {
     "name": "#%%\n"
    }
   }
  },
  {
   "cell_type": "code",
   "execution_count": 13,
   "outputs": [],
   "source": [
    "scores,prediction,_ = get_score(Train_set\n",
    "                                ,Test_set,'_')\n"
   ],
   "metadata": {
    "collapsed": false,
    "pycharm": {
     "name": "#%%\n"
    }
   }
  },
  {
   "cell_type": "code",
   "execution_count": 14,
   "outputs": [
    {
     "data": {
      "text/plain": "0.7525641025641026"
     },
     "execution_count": 14,
     "metadata": {},
     "output_type": "execute_result"
    }
   ],
   "source": [
    "scores"
   ],
   "metadata": {
    "collapsed": false,
    "pycharm": {
     "name": "#%%\n"
    }
   }
  },
  {
   "cell_type": "code",
   "execution_count": null,
   "outputs": [],
   "source": [
    "\n",
    "#滑动窗口+回归预测问题:\n",
    "\n"
   ],
   "metadata": {
    "collapsed": false,
    "pycharm": {
     "name": "#%%\n"
    }
   }
  }
 ],
 "metadata": {
  "kernelspec": {
   "display_name": "Python 3",
   "language": "python",
   "name": "python3"
  },
  "language_info": {
   "codemirror_mode": {
    "name": "ipython",
    "version": 2
   },
   "file_extension": ".py",
   "mimetype": "text/x-python",
   "name": "python",
   "nbconvert_exporter": "python",
   "pygments_lexer": "ipython2",
   "version": "2.7.6"
  }
 },
 "nbformat": 4,
 "nbformat_minor": 0
}