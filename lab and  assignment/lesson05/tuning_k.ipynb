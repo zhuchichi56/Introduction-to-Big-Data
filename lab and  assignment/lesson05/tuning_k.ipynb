{
 "cells": [
  {
   "cell_type": "code",
   "execution_count": 7,
   "metadata": {
    "collapsed": true
   },
   "outputs": [
    {
     "data": {
      "text/plain": "array(['setosa', 'versicolor', 'virginica'], dtype='<U10')"
     },
     "execution_count": 7,
     "metadata": {},
     "output_type": "execute_result"
    }
   ],
   "source": [
    "from sklearn.neighbors import KNeighborsClassifier\n",
    "k =1\n",
    "knn = KNeighborsClassifier(n_neighbors=1)\n",
    "\n",
    "\n",
    "\n",
    "#导入数据\n",
    "from sklearn.datasets import load_iris\n",
    "data_df = load_iris()\n",
    "data_df['target']\n",
    "data_df['data']\n",
    "data_df['feature_names']\n",
    "data_df['target_names']"
   ]
  },
  {
   "cell_type": "code",
   "execution_count": 17,
   "outputs": [
    {
     "name": "stdout",
     "output_type": "stream",
     "text": [
      "{'mean_fit_time': array([0.00041456, 0.00030169, 0.00021081, 0.00026689, 0.00016656,\n",
      "       0.00017786, 0.00022664, 0.00021777, 0.00021281]), 'std_fit_time': array([2.60100854e-04, 8.16174182e-05, 3.03293923e-05, 8.27187548e-05,\n",
      "       1.63490488e-05, 6.01268778e-06, 2.12770917e-05, 3.61892702e-05,\n",
      "       4.28465716e-05]), 'mean_score_time': array([0.00122418, 0.00114436, 0.0005568 , 0.00070519, 0.00055985,\n",
      "       0.00058918, 0.00065575, 0.0005878 , 0.00062284]), 'std_score_time': array([1.24233378e-03, 6.56060358e-04, 4.26295086e-05, 1.07970022e-04,\n",
      "       9.49702815e-05, 4.68947951e-05, 5.97373629e-05, 4.46520764e-05,\n",
      "       3.66552884e-05]), 'param_n_neighbors': masked_array(data=[1, 2, 3, 4, 5, 6, 7, 8, 9],\n",
      "             mask=[False, False, False, False, False, False, False, False,\n",
      "                   False],\n",
      "       fill_value='?',\n",
      "            dtype=object), 'params': [{'n_neighbors': 1}, {'n_neighbors': 2}, {'n_neighbors': 3}, {'n_neighbors': 4}, {'n_neighbors': 5}, {'n_neighbors': 6}, {'n_neighbors': 7}, {'n_neighbors': 8}, {'n_neighbors': 9}], 'split0_test_score': array([0.96666667, 0.96666667, 0.96666667, 0.96666667, 0.96666667,\n",
      "       0.96666667, 0.96666667, 0.96666667, 0.96666667]), 'split1_test_score': array([0.96666667, 0.93333333, 0.96666667, 0.96666667, 1.        ,\n",
      "       1.        , 1.        , 1.        , 1.        ]), 'split2_test_score': array([0.93333333, 0.93333333, 0.93333333, 0.96666667, 0.93333333,\n",
      "       0.96666667, 0.96666667, 0.93333333, 0.96666667]), 'split3_test_score': array([0.93333333, 0.9       , 0.96666667, 0.96666667, 0.96666667,\n",
      "       0.96666667, 0.96666667, 0.93333333, 0.93333333]), 'split4_test_score': array([1., 1., 1., 1., 1., 1., 1., 1., 1.]), 'mean_test_score': array([0.96      , 0.94666667, 0.96666667, 0.97333333, 0.97333333,\n",
      "       0.98      , 0.98      , 0.96666667, 0.97333333]), 'std_test_score': array([0.02494438, 0.03399346, 0.02108185, 0.01333333, 0.02494438,\n",
      "       0.01632993, 0.01632993, 0.02981424, 0.02494438]), 'rank_test_score': array([8, 9, 6, 3, 3, 1, 1, 6, 3], dtype=int32)}\n"
     ]
    },
    {
     "data": {
      "text/plain": "{'n_neighbors': 6}"
     },
     "execution_count": 17,
     "metadata": {},
     "output_type": "execute_result"
    }
   ],
   "source": [
    "\n",
    "#交叉验证\n",
    "from sklearn.model_selection import GridSearchCV\n",
    "#交叉验证\n",
    "p_d= {'n_neighbors':range(1,10)\n",
    "\n",
    "      }\n",
    "estimator = GridSearchCV(estimator= knn,param_grid=p_d,cv = 5)\n",
    "estimator.fit(X=data_df['data'],y=data_df['target'])\n",
    "print(estimator.cv_results_)\n",
    "estimator.best_params_\n",
    "#懂的"
   ],
   "metadata": {
    "collapsed": false,
    "pycharm": {
     "name": "#%%\n"
    }
   }
  },
  {
   "cell_type": "code",
   "execution_count": null,
   "outputs": [],
   "source": [
    "\n"
   ],
   "metadata": {
    "collapsed": false,
    "pycharm": {
     "name": "#%%\n"
    }
   }
  }
 ],
 "metadata": {
  "kernelspec": {
   "display_name": "Python 3",
   "language": "python",
   "name": "python3"
  },
  "language_info": {
   "codemirror_mode": {
    "name": "ipython",
    "version": 2
   },
   "file_extension": ".py",
   "mimetype": "text/x-python",
   "name": "python",
   "nbconvert_exporter": "python",
   "pygments_lexer": "ipython2",
   "version": "2.7.6"
  }
 },
 "nbformat": 4,
 "nbformat_minor": 0
}