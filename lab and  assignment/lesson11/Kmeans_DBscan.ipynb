{
 "cells": [
  {
   "cell_type": "code",
   "execution_count": 2,
   "metadata": {
    "collapsed": true
   },
   "outputs": [
    {
     "name": "stdout",
     "output_type": "stream",
     "text": [
      "46.0000000000\n",
      "3.9912977684\n",
      "2.6131259298\n",
      "12.1870646827\n",
      "4.4721359550\n",
      "5.8052434198\n",
      "1.0823922003\n",
      "6.4687050775\n",
      "6.0000000000\n",
      "6.4687050775\n",
      "1.0823922003\n",
      "5.8052434198\n",
      "4.4721359550\n",
      "12.1870646827\n",
      "2.6131259298\n",
      "3.9912977684\n"
     ]
    }
   ],
   "source": [
    "import numpy as np\n",
    "import pandas as pd\n",
    "\n",
    "\n",
    "\n",
    "\n",
    "import numpy as npy\n",
    "\n",
    "for i in npy.fft.fft(npy.array(\"2 3 5 2 1 3 4 5 2 3 1 6 4 2 1 2\".split(\" \"))):\n",
    "    print(\"{:.10f}\".format(npy.linalg.norm(i)))\n",
    "\n",
    "\n",
    "\n"
   ]
  },
  {
   "cell_type": "code",
   "execution_count": 3,
   "outputs": [],
   "source": [
    "#实现一个离散傅立叶变换;\n",
    "def FFT(P):\n",
    "    n = len(P)\n",
    "    if (n==1):\n",
    "        return P\n",
    "    w = np.exp(2*np.pi*1j/n)\n",
    "    P_even = P[::2],\n",
    "    P_odd = P[1::2]\n",
    "    y_even =FFT(P_even)\n",
    "    y_odd = FFT(P_odd)\n",
    "    y =[0]*n\n",
    "    half_length = int(n/2)\n",
    "    for j in range(half_length):\n",
    "        y[j] =y_even[j]+w**j*y_odd[j]\n",
    "        y[int(j+n/2)] =y_even[j]-w**j*y_odd[j]\n",
    "    return y\n",
    "\n",
    "\n",
    "\n",
    "\n",
    "\n",
    "\n",
    "\n",
    "\n",
    "\n",
    "\n",
    "\n"
   ],
   "metadata": {
    "collapsed": false,
    "pycharm": {
     "name": "#%%\n"
    }
   }
  },
  {
   "cell_type": "code",
   "execution_count": 4,
   "outputs": [
    {
     "data": {
      "text/plain": "[2.0,\n 3.0,\n 5.0,\n 2.0,\n 1.0,\n 3.0,\n 4.0,\n 5.0,\n 2.0,\n 3.0,\n 1.0,\n 6.0,\n 4.0,\n 2.0,\n 1.0,\n 2.0]"
     },
     "execution_count": 4,
     "metadata": {},
     "output_type": "execute_result"
    }
   ],
   "source": [
    "list = \"2 3 5 2 1 3 4 5 2 3 1 6 4 2 1 2\".split(\" \")\n",
    "list = [float(i) for i in list]\n",
    "list"
   ],
   "metadata": {
    "collapsed": false,
    "pycharm": {
     "name": "#%%\n"
    }
   }
  },
  {
   "cell_type": "code",
   "execution_count": 5,
   "outputs": [
    {
     "ename": "IndexError",
     "evalue": "tuple index out of range",
     "output_type": "error",
     "traceback": [
      "\u001B[0;31m---------------------------------------------------------------------------\u001B[0m",
      "\u001B[0;31mIndexError\u001B[0m                                Traceback (most recent call last)",
      "\u001B[0;32m/var/folders/7k/t3z5gl690gx4ks2wtmpnj4x40000gn/T/ipykernel_23122/2013792881.py\u001B[0m in \u001B[0;36m<module>\u001B[0;34m\u001B[0m\n\u001B[0;32m----> 1\u001B[0;31m \u001B[0mFFT\u001B[0m\u001B[0;34m(\u001B[0m\u001B[0mlist\u001B[0m\u001B[0;34m)\u001B[0m\u001B[0;34m\u001B[0m\u001B[0;34m\u001B[0m\u001B[0m\n\u001B[0m\u001B[1;32m      2\u001B[0m \u001B[0;34m\u001B[0m\u001B[0m\n\u001B[1;32m      3\u001B[0m \u001B[0;34m\u001B[0m\u001B[0m\n\u001B[1;32m      4\u001B[0m \u001B[0;34m\u001B[0m\u001B[0m\n",
      "\u001B[0;32m/var/folders/7k/t3z5gl690gx4ks2wtmpnj4x40000gn/T/ipykernel_23122/1518255638.py\u001B[0m in \u001B[0;36mFFT\u001B[0;34m(P)\u001B[0m\n\u001B[1;32m      8\u001B[0m     \u001B[0mP_odd\u001B[0m \u001B[0;34m=\u001B[0m \u001B[0mP\u001B[0m\u001B[0;34m[\u001B[0m\u001B[0;36m1\u001B[0m\u001B[0;34m:\u001B[0m\u001B[0;34m:\u001B[0m\u001B[0;36m2\u001B[0m\u001B[0;34m]\u001B[0m\u001B[0;34m\u001B[0m\u001B[0;34m\u001B[0m\u001B[0m\n\u001B[1;32m      9\u001B[0m     \u001B[0my_even\u001B[0m \u001B[0;34m=\u001B[0m\u001B[0mFFT\u001B[0m\u001B[0;34m(\u001B[0m\u001B[0mP_even\u001B[0m\u001B[0;34m)\u001B[0m\u001B[0;34m\u001B[0m\u001B[0;34m\u001B[0m\u001B[0m\n\u001B[0;32m---> 10\u001B[0;31m     \u001B[0my_odd\u001B[0m \u001B[0;34m=\u001B[0m \u001B[0mFFT\u001B[0m\u001B[0;34m(\u001B[0m\u001B[0mP_odd\u001B[0m\u001B[0;34m)\u001B[0m\u001B[0;34m\u001B[0m\u001B[0;34m\u001B[0m\u001B[0m\n\u001B[0m\u001B[1;32m     11\u001B[0m     \u001B[0my\u001B[0m \u001B[0;34m=\u001B[0m\u001B[0;34m[\u001B[0m\u001B[0;36m0\u001B[0m\u001B[0;34m]\u001B[0m\u001B[0;34m*\u001B[0m\u001B[0mn\u001B[0m\u001B[0;34m\u001B[0m\u001B[0;34m\u001B[0m\u001B[0m\n\u001B[1;32m     12\u001B[0m     \u001B[0mhalf_length\u001B[0m \u001B[0;34m=\u001B[0m \u001B[0mint\u001B[0m\u001B[0;34m(\u001B[0m\u001B[0mn\u001B[0m\u001B[0;34m/\u001B[0m\u001B[0;36m2\u001B[0m\u001B[0;34m)\u001B[0m\u001B[0;34m\u001B[0m\u001B[0;34m\u001B[0m\u001B[0m\n",
      "\u001B[0;32m/var/folders/7k/t3z5gl690gx4ks2wtmpnj4x40000gn/T/ipykernel_23122/1518255638.py\u001B[0m in \u001B[0;36mFFT\u001B[0;34m(P)\u001B[0m\n\u001B[1;32m      8\u001B[0m     \u001B[0mP_odd\u001B[0m \u001B[0;34m=\u001B[0m \u001B[0mP\u001B[0m\u001B[0;34m[\u001B[0m\u001B[0;36m1\u001B[0m\u001B[0;34m:\u001B[0m\u001B[0;34m:\u001B[0m\u001B[0;36m2\u001B[0m\u001B[0;34m]\u001B[0m\u001B[0;34m\u001B[0m\u001B[0;34m\u001B[0m\u001B[0m\n\u001B[1;32m      9\u001B[0m     \u001B[0my_even\u001B[0m \u001B[0;34m=\u001B[0m\u001B[0mFFT\u001B[0m\u001B[0;34m(\u001B[0m\u001B[0mP_even\u001B[0m\u001B[0;34m)\u001B[0m\u001B[0;34m\u001B[0m\u001B[0;34m\u001B[0m\u001B[0m\n\u001B[0;32m---> 10\u001B[0;31m     \u001B[0my_odd\u001B[0m \u001B[0;34m=\u001B[0m \u001B[0mFFT\u001B[0m\u001B[0;34m(\u001B[0m\u001B[0mP_odd\u001B[0m\u001B[0;34m)\u001B[0m\u001B[0;34m\u001B[0m\u001B[0;34m\u001B[0m\u001B[0m\n\u001B[0m\u001B[1;32m     11\u001B[0m     \u001B[0my\u001B[0m \u001B[0;34m=\u001B[0m\u001B[0;34m[\u001B[0m\u001B[0;36m0\u001B[0m\u001B[0;34m]\u001B[0m\u001B[0;34m*\u001B[0m\u001B[0mn\u001B[0m\u001B[0;34m\u001B[0m\u001B[0;34m\u001B[0m\u001B[0m\n\u001B[1;32m     12\u001B[0m     \u001B[0mhalf_length\u001B[0m \u001B[0;34m=\u001B[0m \u001B[0mint\u001B[0m\u001B[0;34m(\u001B[0m\u001B[0mn\u001B[0m\u001B[0;34m/\u001B[0m\u001B[0;36m2\u001B[0m\u001B[0;34m)\u001B[0m\u001B[0;34m\u001B[0m\u001B[0;34m\u001B[0m\u001B[0m\n",
      "\u001B[0;32m/var/folders/7k/t3z5gl690gx4ks2wtmpnj4x40000gn/T/ipykernel_23122/1518255638.py\u001B[0m in \u001B[0;36mFFT\u001B[0;34m(P)\u001B[0m\n\u001B[1;32m     12\u001B[0m     \u001B[0mhalf_length\u001B[0m \u001B[0;34m=\u001B[0m \u001B[0mint\u001B[0m\u001B[0;34m(\u001B[0m\u001B[0mn\u001B[0m\u001B[0;34m/\u001B[0m\u001B[0;36m2\u001B[0m\u001B[0;34m)\u001B[0m\u001B[0;34m\u001B[0m\u001B[0;34m\u001B[0m\u001B[0m\n\u001B[1;32m     13\u001B[0m     \u001B[0;32mfor\u001B[0m \u001B[0mj\u001B[0m \u001B[0;32min\u001B[0m \u001B[0mrange\u001B[0m\u001B[0;34m(\u001B[0m\u001B[0mhalf_length\u001B[0m\u001B[0;34m)\u001B[0m\u001B[0;34m:\u001B[0m\u001B[0;34m\u001B[0m\u001B[0;34m\u001B[0m\u001B[0m\n\u001B[0;32m---> 14\u001B[0;31m         \u001B[0my\u001B[0m\u001B[0;34m[\u001B[0m\u001B[0mj\u001B[0m\u001B[0;34m]\u001B[0m \u001B[0;34m=\u001B[0m\u001B[0my_even\u001B[0m\u001B[0;34m[\u001B[0m\u001B[0mj\u001B[0m\u001B[0;34m]\u001B[0m\u001B[0;34m+\u001B[0m\u001B[0mw\u001B[0m\u001B[0;34m**\u001B[0m\u001B[0mj\u001B[0m\u001B[0;34m*\u001B[0m\u001B[0my_odd\u001B[0m\u001B[0;34m[\u001B[0m\u001B[0mj\u001B[0m\u001B[0;34m]\u001B[0m\u001B[0;34m\u001B[0m\u001B[0;34m\u001B[0m\u001B[0m\n\u001B[0m\u001B[1;32m     15\u001B[0m         \u001B[0my\u001B[0m\u001B[0;34m[\u001B[0m\u001B[0mint\u001B[0m\u001B[0;34m(\u001B[0m\u001B[0mj\u001B[0m\u001B[0;34m+\u001B[0m\u001B[0mn\u001B[0m\u001B[0;34m/\u001B[0m\u001B[0;36m2\u001B[0m\u001B[0;34m)\u001B[0m\u001B[0;34m]\u001B[0m \u001B[0;34m=\u001B[0m\u001B[0my_even\u001B[0m\u001B[0;34m[\u001B[0m\u001B[0mj\u001B[0m\u001B[0;34m]\u001B[0m\u001B[0;34m-\u001B[0m\u001B[0mw\u001B[0m\u001B[0;34m**\u001B[0m\u001B[0mj\u001B[0m\u001B[0;34m*\u001B[0m\u001B[0my_odd\u001B[0m\u001B[0;34m[\u001B[0m\u001B[0mj\u001B[0m\u001B[0;34m]\u001B[0m\u001B[0;34m\u001B[0m\u001B[0;34m\u001B[0m\u001B[0m\n\u001B[1;32m     16\u001B[0m     \u001B[0;32mreturn\u001B[0m \u001B[0my\u001B[0m\u001B[0;34m\u001B[0m\u001B[0;34m\u001B[0m\u001B[0m\n",
      "\u001B[0;31mIndexError\u001B[0m: tuple index out of range"
     ]
    }
   ],
   "source": [
    "FFT(list)\n",
    "\n"
   ],
   "metadata": {
    "collapsed": false,
    "pycharm": {
     "name": "#%%\n"
    }
   }
  },
  {
   "cell_type": "code",
   "execution_count": null,
   "outputs": [],
   "source": [
    "n =3\n",
    "int(n/2)"
   ],
   "metadata": {
    "collapsed": false,
    "pycharm": {
     "name": "#%%\n"
    }
   }
  },
  {
   "cell_type": "code",
   "execution_count": 6,
   "outputs": [
    {
     "data": {
      "text/plain": "array([46.        +0.00000000e+00j, -3.97794898-3.26159168e-01j,\n       -1.        -2.41421356e+00j,  2.76424058-1.18694364e+01j,\n       -2.        +4.00000000e+00j, -4.17845415+4.03005857e+00j,\n       -1.        -4.14213562e-01j,  5.39216254+3.57333577e+00j,\n       -6.        -3.13583858e-14j,  5.39216254-3.57333577e+00j,\n       -1.        +4.14213562e-01j, -4.17845415-4.03005857e+00j,\n       -2.        -4.00000000e+00j,  2.76424058+1.18694364e+01j,\n       -1.        +2.41421356e+00j, -3.97794898+3.26159168e-01j])"
     },
     "execution_count": 6,
     "metadata": {},
     "output_type": "execute_result"
    }
   ],
   "source": [
    "\n",
    "\n",
    "def dft(x):\n",
    "    x = np.asarray(x, dtype=float)\n",
    "    N = x.shape[0]\n",
    "    n = np.arange(N)\n",
    "    k = n.reshape((N, 1))\n",
    "\n",
    "\n",
    "\n",
    "    M = np.exp(-2j * np.pi * k * n / N)\n",
    "    return np.dot(M, x)\n",
    "\n",
    "\n",
    "\n",
    "\n",
    "\n",
    "\n",
    "#直接离散傅立叶变换;翻译成C语言\n",
    "\n",
    "\n",
    "\n",
    "x = np.random.random(1024)\n",
    "np.allclose(dft(x), np.fft.fft(x))\n",
    "\n",
    "\n",
    "\n",
    "def fft(x):\n",
    "    x = np.asarray(x, dtype=float)\n",
    "    N = x.shape[0]\n",
    "    if N % 2 > 0:\n",
    "        raise ValueError(\"must be a power of 2\")\n",
    "    elif N <= 2:\n",
    "        return dft(x)\n",
    "    else:\n",
    "        X_even = fft(x[::2])\n",
    "        X_odd = fft(x[1::2])\n",
    "        terms = np.exp(-2j * np.pi * np.arange(N) / N)\n",
    "        return np.concatenate([X_even + terms[:int(N/2)] * X_odd,\n",
    "                               X_even + terms[int(N/2):] * X_odd])\n",
    "\n",
    "np.allclose(fft(list), np.fft.fft(list))\n",
    "\n",
    "dft(list)\n",
    "\n",
    "\n",
    "\n",
    "#还挺牛逼的。。\n",
    "#直接超答案吧；"
   ],
   "metadata": {
    "collapsed": false,
    "pycharm": {
     "name": "#%%\n"
    }
   }
  },
  {
   "cell_type": "code",
   "execution_count": null,
   "outputs": [],
   "source": [],
   "metadata": {
    "collapsed": false,
    "pycharm": {
     "name": "#%%\n"
    }
   }
  }
 ],
 "metadata": {
  "kernelspec": {
   "display_name": "Python 3",
   "language": "python",
   "name": "python3"
  },
  "language_info": {
   "codemirror_mode": {
    "name": "ipython",
    "version": 2
   },
   "file_extension": ".py",
   "mimetype": "text/x-python",
   "name": "python",
   "nbconvert_exporter": "python",
   "pygments_lexer": "ipython2",
   "version": "2.7.6"
  }
 },
 "nbformat": 4,
 "nbformat_minor": 0
}