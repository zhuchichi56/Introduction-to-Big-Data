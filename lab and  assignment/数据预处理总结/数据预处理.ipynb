{
 "cells": [
  {
   "cell_type": "code",
   "execution_count": 5,
   "metadata": {
    "collapsed": true,
    "pycharm": {
     "name": "#%%\n"
    }
   },
   "outputs": [
    {
     "data": {
      "text/plain": "       gradyear gender     age  friends  basketball  football  soccer  \\\n0          2006      M  18.982        7           0         0       0   \n1          2006      F  18.801        0           0         1       0   \n2          2006      M  18.335       69           0         1       0   \n3          2006      F  18.875        0           0         0       0   \n4          2006    NaN  18.995       10           0         0       0   \n...         ...    ...     ...      ...         ...       ...     ...   \n29995      2009      M  16.115        0           0         0       0   \n29996      2009      M  15.792        1           0         1       0   \n29997      2009      M  15.784        0           0         1       0   \n29998      2009      M  16.378        0           0         0       0   \n29999      2009      F  18.724        3           2         0       0   \n\n       softball  volleyball  swimming  ...  blonde  mall  shopping  clothes  \\\n0             0           0         0  ...       0     0         0        0   \n1             0           0         0  ...       0     1         0        0   \n2             0           0         0  ...       0     0         0        0   \n3             0           0         0  ...       0     0         0        0   \n4             0           0         0  ...       0     0         2        0   \n...         ...         ...       ...  ...     ...   ...       ...      ...   \n29995         0           0         0  ...       0     0         0        0   \n29996         0           0         0  ...       0     0         0        0   \n29997         0           0         0  ...       0     0         0        0   \n29998         0           0         0  ...       0     0         0        0   \n29999         1           0         0  ...       0     0         0        0   \n\n       hollister  abercrombie  die  death  drunk  drugs  \n0              0            0    0      0      0      0  \n1              0            0    0      0      0      0  \n2              0            0    0      1      0      0  \n3              0            0    0      0      0      0  \n4              0            0    0      0      1      1  \n...          ...          ...  ...    ...    ...    ...  \n29995          0            0    0      0      0      0  \n29996          0            0    0      0      0      0  \n29997          0            0    0      0      0      0  \n29998          0            0    0      0      0      0  \n29999          0            0    0      0      0      0  \n\n[30000 rows x 40 columns]",
      "text/html": "<div>\n<style scoped>\n    .dataframe tbody tr th:only-of-type {\n        vertical-align: middle;\n    }\n\n    .dataframe tbody tr th {\n        vertical-align: top;\n    }\n\n    .dataframe thead th {\n        text-align: right;\n    }\n</style>\n<table border=\"1\" class=\"dataframe\">\n  <thead>\n    <tr style=\"text-align: right;\">\n      <th></th>\n      <th>gradyear</th>\n      <th>gender</th>\n      <th>age</th>\n      <th>friends</th>\n      <th>basketball</th>\n      <th>football</th>\n      <th>soccer</th>\n      <th>softball</th>\n      <th>volleyball</th>\n      <th>swimming</th>\n      <th>...</th>\n      <th>blonde</th>\n      <th>mall</th>\n      <th>shopping</th>\n      <th>clothes</th>\n      <th>hollister</th>\n      <th>abercrombie</th>\n      <th>die</th>\n      <th>death</th>\n      <th>drunk</th>\n      <th>drugs</th>\n    </tr>\n  </thead>\n  <tbody>\n    <tr>\n      <th>0</th>\n      <td>2006</td>\n      <td>M</td>\n      <td>18.982</td>\n      <td>7</td>\n      <td>0</td>\n      <td>0</td>\n      <td>0</td>\n      <td>0</td>\n      <td>0</td>\n      <td>0</td>\n      <td>...</td>\n      <td>0</td>\n      <td>0</td>\n      <td>0</td>\n      <td>0</td>\n      <td>0</td>\n      <td>0</td>\n      <td>0</td>\n      <td>0</td>\n      <td>0</td>\n      <td>0</td>\n    </tr>\n    <tr>\n      <th>1</th>\n      <td>2006</td>\n      <td>F</td>\n      <td>18.801</td>\n      <td>0</td>\n      <td>0</td>\n      <td>1</td>\n      <td>0</td>\n      <td>0</td>\n      <td>0</td>\n      <td>0</td>\n      <td>...</td>\n      <td>0</td>\n      <td>1</td>\n      <td>0</td>\n      <td>0</td>\n      <td>0</td>\n      <td>0</td>\n      <td>0</td>\n      <td>0</td>\n      <td>0</td>\n      <td>0</td>\n    </tr>\n    <tr>\n      <th>2</th>\n      <td>2006</td>\n      <td>M</td>\n      <td>18.335</td>\n      <td>69</td>\n      <td>0</td>\n      <td>1</td>\n      <td>0</td>\n      <td>0</td>\n      <td>0</td>\n      <td>0</td>\n      <td>...</td>\n      <td>0</td>\n      <td>0</td>\n      <td>0</td>\n      <td>0</td>\n      <td>0</td>\n      <td>0</td>\n      <td>0</td>\n      <td>1</td>\n      <td>0</td>\n      <td>0</td>\n    </tr>\n    <tr>\n      <th>3</th>\n      <td>2006</td>\n      <td>F</td>\n      <td>18.875</td>\n      <td>0</td>\n      <td>0</td>\n      <td>0</td>\n      <td>0</td>\n      <td>0</td>\n      <td>0</td>\n      <td>0</td>\n      <td>...</td>\n      <td>0</td>\n      <td>0</td>\n      <td>0</td>\n      <td>0</td>\n      <td>0</td>\n      <td>0</td>\n      <td>0</td>\n      <td>0</td>\n      <td>0</td>\n      <td>0</td>\n    </tr>\n    <tr>\n      <th>4</th>\n      <td>2006</td>\n      <td>NaN</td>\n      <td>18.995</td>\n      <td>10</td>\n      <td>0</td>\n      <td>0</td>\n      <td>0</td>\n      <td>0</td>\n      <td>0</td>\n      <td>0</td>\n      <td>...</td>\n      <td>0</td>\n      <td>0</td>\n      <td>2</td>\n      <td>0</td>\n      <td>0</td>\n      <td>0</td>\n      <td>0</td>\n      <td>0</td>\n      <td>1</td>\n      <td>1</td>\n    </tr>\n    <tr>\n      <th>...</th>\n      <td>...</td>\n      <td>...</td>\n      <td>...</td>\n      <td>...</td>\n      <td>...</td>\n      <td>...</td>\n      <td>...</td>\n      <td>...</td>\n      <td>...</td>\n      <td>...</td>\n      <td>...</td>\n      <td>...</td>\n      <td>...</td>\n      <td>...</td>\n      <td>...</td>\n      <td>...</td>\n      <td>...</td>\n      <td>...</td>\n      <td>...</td>\n      <td>...</td>\n      <td>...</td>\n    </tr>\n    <tr>\n      <th>29995</th>\n      <td>2009</td>\n      <td>M</td>\n      <td>16.115</td>\n      <td>0</td>\n      <td>0</td>\n      <td>0</td>\n      <td>0</td>\n      <td>0</td>\n      <td>0</td>\n      <td>0</td>\n      <td>...</td>\n      <td>0</td>\n      <td>0</td>\n      <td>0</td>\n      <td>0</td>\n      <td>0</td>\n      <td>0</td>\n      <td>0</td>\n      <td>0</td>\n      <td>0</td>\n      <td>0</td>\n    </tr>\n    <tr>\n      <th>29996</th>\n      <td>2009</td>\n      <td>M</td>\n      <td>15.792</td>\n      <td>1</td>\n      <td>0</td>\n      <td>1</td>\n      <td>0</td>\n      <td>0</td>\n      <td>0</td>\n      <td>0</td>\n      <td>...</td>\n      <td>0</td>\n      <td>0</td>\n      <td>0</td>\n      <td>0</td>\n      <td>0</td>\n      <td>0</td>\n      <td>0</td>\n      <td>0</td>\n      <td>0</td>\n      <td>0</td>\n    </tr>\n    <tr>\n      <th>29997</th>\n      <td>2009</td>\n      <td>M</td>\n      <td>15.784</td>\n      <td>0</td>\n      <td>0</td>\n      <td>1</td>\n      <td>0</td>\n      <td>0</td>\n      <td>0</td>\n      <td>0</td>\n      <td>...</td>\n      <td>0</td>\n      <td>0</td>\n      <td>0</td>\n      <td>0</td>\n      <td>0</td>\n      <td>0</td>\n      <td>0</td>\n      <td>0</td>\n      <td>0</td>\n      <td>0</td>\n    </tr>\n    <tr>\n      <th>29998</th>\n      <td>2009</td>\n      <td>M</td>\n      <td>16.378</td>\n      <td>0</td>\n      <td>0</td>\n      <td>0</td>\n      <td>0</td>\n      <td>0</td>\n      <td>0</td>\n      <td>0</td>\n      <td>...</td>\n      <td>0</td>\n      <td>0</td>\n      <td>0</td>\n      <td>0</td>\n      <td>0</td>\n      <td>0</td>\n      <td>0</td>\n      <td>0</td>\n      <td>0</td>\n      <td>0</td>\n    </tr>\n    <tr>\n      <th>29999</th>\n      <td>2009</td>\n      <td>F</td>\n      <td>18.724</td>\n      <td>3</td>\n      <td>2</td>\n      <td>0</td>\n      <td>0</td>\n      <td>1</td>\n      <td>0</td>\n      <td>0</td>\n      <td>...</td>\n      <td>0</td>\n      <td>0</td>\n      <td>0</td>\n      <td>0</td>\n      <td>0</td>\n      <td>0</td>\n      <td>0</td>\n      <td>0</td>\n      <td>0</td>\n      <td>0</td>\n    </tr>\n  </tbody>\n</table>\n<p>30000 rows × 40 columns</p>\n</div>"
     },
     "execution_count": 5,
     "metadata": {},
     "output_type": "execute_result"
    }
   ],
   "source": [
    "# scaling\n",
    "import pandas as pd\n",
    "teenager_sns  = pd.read_csv('teenager_sns.csv')\n",
    "teenager_sns.describe()\n",
    "teenager_sns\n"
   ]
  },
  {
   "cell_type": "code",
   "execution_count": null,
   "outputs": [],
   "source": [
    "from sklearn import preprocessing\n",
    "\n",
    "teenager_sns_age  = teenager_sns['age']\n",
    "teenager_sns_age_zscore =preprocessing.scale(X = teenager_sns_age,with_mean=teenager_sns_age.mean(),with_std = teenager_sns_age.std())\n",
    "teenager_sns_age_zscore.shape\n",
    "# teenager_sns_age\n",
    "teenager_sns_age_zscore_01 =preprocessing.minmax_scale(teenager_sns_age)\n",
    "\n",
    "teenager_sns_age_zscore_01\n",
    "\n",
    "k =1\n",
    "teenager_sns_age_decimal = teenager_sns_age/10**k\n",
    "print(teenager_sns_age_decimal)\n",
    "\n",
    "from math import e\n",
    "teenager_sns_age_log = 1/(1+e**(-teenager_sns_age))\n",
    "print(teenager_sns_age_log)\n",
    "\n",
    "\n"
   ],
   "metadata": {
    "collapsed": false,
    "pycharm": {
     "name": "#%%\n"
    }
   }
  },
  {
   "cell_type": "code",
   "execution_count": 4,
   "outputs": [
    {
     "name": "stderr",
     "output_type": "stream",
     "text": [
      "/Library/Frameworks/Python.framework/Versions/3.9/lib/python3.9/site-packages/sklearn/utils/deprecation.py:87: FutureWarning: Function load_boston is deprecated; `load_boston` is deprecated in 1.0 and will be removed in 1.2.\n",
      "\n",
      "    The Boston housing prices dataset has an ethical problem. You can refer to\n",
      "    the documentation of this function for further details.\n",
      "\n",
      "    The scikit-learn maintainers therefore strongly discourage the use of this\n",
      "    dataset unless the purpose of the code is to study and educate about\n",
      "    ethical issues in data science and machine learning.\n",
      "\n",
      "    In this special case, you can fetch the dataset from the original\n",
      "    source::\n",
      "\n",
      "        import pandas as pd\n",
      "        import numpy as np\n",
      "\n",
      "\n",
      "        data_url = \"http://lib.stat.cmu.edu/datasets/boston\"\n",
      "        raw_df = pd.read_csv(data_url, sep=\"\\s+\", skiprows=22, header=None)\n",
      "        data = np.hstack([raw_df.values[::2, :], raw_df.values[1::2, :2]])\n",
      "        target = raw_df.values[1::2, 2]\n",
      "\n",
      "    Alternative datasets include the California housing dataset (i.e.\n",
      "    :func:`~sklearn.datasets.fetch_california_housing`) and the Ames housing\n",
      "    dataset. You can load the datasets as follows::\n",
      "\n",
      "        from sklearn.datasets import fetch_california_housing\n",
      "        housing = fetch_california_housing()\n",
      "\n",
      "    for the California housing dataset and::\n",
      "\n",
      "        from sklearn.datasets import fetch_openml\n",
      "        housing = fetch_openml(name=\"house_prices\", as_frame=True)\n",
      "\n",
      "    for the Ames housing dataset.\n",
      "    \n",
      "  warnings.warn(msg, category=FutureWarning)\n"
     ]
    },
    {
     "data": {
      "text/plain": "0        (17.994, 25.852]\n1        (17.994, 25.852]\n2        (17.994, 25.852]\n3        (17.994, 25.852]\n4        (17.994, 25.852]\n               ...       \n29995    (10.136, 17.994]\n29996    (10.136, 17.994]\n29997    (10.136, 17.994]\n29998    (10.136, 17.994]\n29999    (17.994, 25.852]\nName: age, Length: 30000, dtype: category\nCategories (6, interval[float64, right]): [(-5.58, 2.278] < (2.278, 10.136] < (10.136, 17.994] < (17.994, 25.852] < (25.852, 33.71] < (33.71, 41.568]]"
     },
     "execution_count": 4,
     "metadata": {},
     "output_type": "execute_result"
    },
    {
     "data": {
      "text/plain": "<Figure size 432x288 with 1 Axes>",
      "image/png": "[encoded data removed]"
     },
     "metadata": {
      "needs_background": "light"
     },
     "output_type": "display_data"
    }
   ],
   "source": [
    "#unsupervised Discretization\n",
    "from  sklearn import datasets\n",
    "boston =datasets.load_boston()\n",
    "boston_data  = boston['data']\n",
    "boston_features_name = boston['feature_names']\n",
    "boston_features_name\n",
    "boston_df =pd.DataFrame(data = boston_data,columns=boston_features_name)\n",
    "boston_df\n",
    "\n",
    "\n",
    "\n",
    "boston_lstat  = boston_df['LSTAT']\n",
    "# 意义？\n",
    "\n",
    "\n",
    "[boston_lstat_cut,bins] = pd.cut(x =boston_lstat,bins=4,labels=['a','b','c','d'],retbins=True)\n",
    "boston_lstat_cut.hist()\n",
    "bins\n",
    "\n",
    "[boston_lstat_fre,bins_fre] = pd.qcut(x =boston_lstat,q=4,labels=range(4),retbins=True)\n",
    "boston_lstat_fre.hist()\n",
    "bins_fre\n",
    "\n",
    "\n",
    "\n",
    "# 聚类\n",
    "from scipy.cluster.vq import kmeans\n",
    "kmeans(obs = boston_lstat,k_or_guess=4)\n",
    "\n",
    "\n",
    "u = teenager_sns_age.mean()\n",
    "std = teenager_sns_age.std()\n",
    "bins_3 = [u+x*std for x in range(-3,4)]\n",
    "teenager_sns_age_3std =pd.cut(teenager_sns_age,bins=bins_3)\n",
    "teenager_sns_age_3std\n",
    "\n",
    "\n",
    "\n",
    "\n",
    "\n",
    "\n",
    "\n",
    "\n",
    "\n",
    "\n",
    "\n",
    "\n",
    "\n",
    "\n",
    "\n"
   ],
   "metadata": {
    "collapsed": false,
    "pycharm": {
     "name": "#%%\n"
    }
   }
  },
  {
   "cell_type": "code",
   "execution_count": 16,
   "outputs": [],
   "source": [
    "\n"
   ],
   "metadata": {
    "collapsed": false,
    "pycharm": {
     "name": "#%%\n"
    }
   }
  },
  {
   "cell_type": "code",
   "execution_count": null,
   "outputs": [],
   "source": [],
   "metadata": {
    "collapsed": false,
    "pycharm": {
     "name": "#%%\n"
    }
   }
  }
 ],
 "metadata": {
  "kernelspec": {
   "display_name": "Python 3",
   "language": "python",
   "name": "python3"
  },
  "language_info": {
   "codemirror_mode": {
    "name": "ipython",
    "version": 2
   },
   "file_extension": ".py",
   "mimetype": "text/x-python",
   "name": "python",
   "nbconvert_exporter": "python",
   "pygments_lexer": "ipython2",
   "version": "2.7.6"
  }
 },
 "nbformat": 4,
 "nbformat_minor": 0
}