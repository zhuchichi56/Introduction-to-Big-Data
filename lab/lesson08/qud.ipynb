{
 "cells": [
  {
   "cell_type": "code",
   "execution_count": 21,
   "metadata": {
    "collapsed": true
   },
   "outputs": [],
   "source": [
    "import matplotlib.pyplot as plt\n",
    "from sklearn.discriminant_analysis import LinearDiscriminantAnalysis,QuadraticDiscriminantAnalysis\n",
    "\n",
    "import numpy as np"
   ]
  },
  {
   "cell_type": "code",
   "execution_count": 32,
   "outputs": [
    {
     "data": {
      "text/plain": "array([[ 0.  , -0.23],\n       [ 0.83,  0.23]])"
     },
     "execution_count": 32,
     "metadata": {},
     "output_type": "execute_result"
    }
   ],
   "source": [],
   "metadata": {
    "collapsed": false,
    "pycharm": {
     "name": "#%%\n"
    }
   }
  },
  {
   "cell_type": "code",
   "execution_count": 49,
   "outputs": [],
   "source": [
    "\n",
    "def data_fixed_cov():\n",
    "    n,dim = 300,2\n",
    "    np.random.seed(0)\n",
    "    C = np.array([[0,-0.23],[0.83,0.23]])\n",
    "    print(C)\n",
    "    x = np.r_[\n",
    "           np.dot(np.random.rand(n,dim),C),\n",
    "           np.dot(np.random.rand(n,dim),C)+np.array([1,2])\n",
    "    ]\n",
    "    y = np.hstack((np.zeros(n),np.ones(n)))\n",
    "    return x,y\n",
    "\n",
    "\n",
    "def data_differ_cov():\n",
    "    n,dim = 300,2\n",
    "    np.random.seed(0)\n",
    "    C = np.array([[0,-0.23],[0.83,0.23]])\n",
    "    x = np.r_[\n",
    "           np.dot(np.random.rand(n,dim),C),\n",
    "           np.dot(np.random.rand(n,dim),C.T)+np.array([1,4])\n",
    "    ]\n",
    "\n",
    "    y = np.hstack((np.zeros(n),np.ones(n)))\n",
    "    return x,y\n",
    "\n",
    "\n",
    "#这个矩阵是干什么用的呢？？？"
   ],
   "metadata": {
    "collapsed": false,
    "pycharm": {
     "name": "#%%\n"
    }
   }
  },
  {
   "cell_type": "code",
   "execution_count": 50,
   "outputs": [
    {
     "data": {
      "text/plain": "(array([[ 0.59360717,  0.03826645],\n        [ 0.45225304, -0.01331244],\n        [ 0.53609211,  0.05111504],\n        ...,\n        [ 0.87109636,  4.44421558],\n        [ 0.93405516,  4.62056597],\n        [ 0.90817885,  4.107975  ]]),\n array([0., 0., 0., 0., 0., 0., 0., 0., 0., 0., 0., 0., 0., 0., 0., 0., 0.,\n        0., 0., 0., 0., 0., 0., 0., 0., 0., 0., 0., 0., 0., 0., 0., 0., 0.,\n        0., 0., 0., 0., 0., 0., 0., 0., 0., 0., 0., 0., 0., 0., 0., 0., 0.,\n        0., 0., 0., 0., 0., 0., 0., 0., 0., 0., 0., 0., 0., 0., 0., 0., 0.,\n        0., 0., 0., 0., 0., 0., 0., 0., 0., 0., 0., 0., 0., 0., 0., 0., 0.,\n        0., 0., 0., 0., 0., 0., 0., 0., 0., 0., 0., 0., 0., 0., 0., 0., 0.,\n        0., 0., 0., 0., 0., 0., 0., 0., 0., 0., 0., 0., 0., 0., 0., 0., 0.,\n        0., 0., 0., 0., 0., 0., 0., 0., 0., 0., 0., 0., 0., 0., 0., 0., 0.,\n        0., 0., 0., 0., 0., 0., 0., 0., 0., 0., 0., 0., 0., 0., 0., 0., 0.,\n        0., 0., 0., 0., 0., 0., 0., 0., 0., 0., 0., 0., 0., 0., 0., 0., 0.,\n        0., 0., 0., 0., 0., 0., 0., 0., 0., 0., 0., 0., 0., 0., 0., 0., 0.,\n        0., 0., 0., 0., 0., 0., 0., 0., 0., 0., 0., 0., 0., 0., 0., 0., 0.,\n        0., 0., 0., 0., 0., 0., 0., 0., 0., 0., 0., 0., 0., 0., 0., 0., 0.,\n        0., 0., 0., 0., 0., 0., 0., 0., 0., 0., 0., 0., 0., 0., 0., 0., 0.,\n        0., 0., 0., 0., 0., 0., 0., 0., 0., 0., 0., 0., 0., 0., 0., 0., 0.,\n        0., 0., 0., 0., 0., 0., 0., 0., 0., 0., 0., 0., 0., 0., 0., 0., 0.,\n        0., 0., 0., 0., 0., 0., 0., 0., 0., 0., 0., 0., 0., 0., 0., 0., 0.,\n        0., 0., 0., 0., 0., 0., 0., 0., 0., 0., 0., 1., 1., 1., 1., 1., 1.,\n        1., 1., 1., 1., 1., 1., 1., 1., 1., 1., 1., 1., 1., 1., 1., 1., 1.,\n        1., 1., 1., 1., 1., 1., 1., 1., 1., 1., 1., 1., 1., 1., 1., 1., 1.,\n        1., 1., 1., 1., 1., 1., 1., 1., 1., 1., 1., 1., 1., 1., 1., 1., 1.,\n        1., 1., 1., 1., 1., 1., 1., 1., 1., 1., 1., 1., 1., 1., 1., 1., 1.,\n        1., 1., 1., 1., 1., 1., 1., 1., 1., 1., 1., 1., 1., 1., 1., 1., 1.,\n        1., 1., 1., 1., 1., 1., 1., 1., 1., 1., 1., 1., 1., 1., 1., 1., 1.,\n        1., 1., 1., 1., 1., 1., 1., 1., 1., 1., 1., 1., 1., 1., 1., 1., 1.,\n        1., 1., 1., 1., 1., 1., 1., 1., 1., 1., 1., 1., 1., 1., 1., 1., 1.,\n        1., 1., 1., 1., 1., 1., 1., 1., 1., 1., 1., 1., 1., 1., 1., 1., 1.,\n        1., 1., 1., 1., 1., 1., 1., 1., 1., 1., 1., 1., 1., 1., 1., 1., 1.,\n        1., 1., 1., 1., 1., 1., 1., 1., 1., 1., 1., 1., 1., 1., 1., 1., 1.,\n        1., 1., 1., 1., 1., 1., 1., 1., 1., 1., 1., 1., 1., 1., 1., 1., 1.,\n        1., 1., 1., 1., 1., 1., 1., 1., 1., 1., 1., 1., 1., 1., 1., 1., 1.,\n        1., 1., 1., 1., 1., 1., 1., 1., 1., 1., 1., 1., 1., 1., 1., 1., 1.,\n        1., 1., 1., 1., 1., 1., 1., 1., 1., 1., 1., 1., 1., 1., 1., 1., 1.,\n        1., 1., 1., 1., 1., 1., 1., 1., 1., 1., 1., 1., 1., 1., 1., 1., 1.,\n        1., 1., 1., 1., 1., 1., 1., 1., 1., 1., 1., 1., 1., 1., 1., 1., 1.,\n        1., 1., 1., 1., 1.]))"
     },
     "execution_count": 50,
     "metadata": {},
     "output_type": "execute_result"
    }
   ],
   "source": [
    "data_differ_cov()"
   ],
   "metadata": {
    "collapsed": false,
    "pycharm": {
     "name": "#%%\n"
    }
   }
  },
  {
   "cell_type": "code",
   "execution_count": 51,
   "outputs": [],
   "source": [
    "#结果总共有四类\n",
    "def plot_data(clf,x,y,y_pred,fig_index =1):\n",
    "    splot = plt.subplot(2,2,fig_index)\n",
    "    if fig_index==1:\n",
    "        plt.title(\"LDA\")\n",
    "        plt.ylabel('Data with fixed convariance')\n",
    "    elif fig_index==2:\n",
    "        plt.title(\"QDA\")\n",
    "    elif fig_index==3:\n",
    "        plt.ylabel(\"Data with varying covariances\")\n",
    "\n",
    "    tp= y==y_pred    #正确的数组\n",
    "    tp0 ,tp1= tp[y==0],tp[y==1]\n",
    "    x0,x1 = x[y==0],x[y==1]\n",
    "\n",
    "    x0_tp,x0_fp = x0[tp0],x0[~tp0]\n",
    "    x1_tp,x1_fp = x1[tp1],x1[~tp1]\n",
    "\n",
    "\n",
    "\n",
    "\n",
    "    plt.scatter( x0_tp[:,0],x0_tp[:,1],marker='.')\n",
    "    plt.scatter(x0_fp[:,0],x0_fp[:,1],marker='x')\n",
    "\n",
    "\n",
    "    plt.scatter( x1_tp[:,0],x1_tp[:,1],marker='.')\n",
    "    plt.scatter(x1_fp[:,0],x1_fp[:,1],marker='x')"
   ],
   "metadata": {
    "collapsed": false,
    "pycharm": {
     "name": "#%%\n"
    }
   }
  },
  {
   "cell_type": "code",
   "execution_count": 52,
   "outputs": [
    {
     "name": "stdout",
     "output_type": "stream",
     "text": [
      "[[ 0.   -0.23]\n",
      " [ 0.83  0.23]]\n"
     ]
    },
    {
     "data": {
      "text/plain": "<Figure size 432x288 with 4 Axes>",
      "image/png": "[encoded data removed]"
     },
     "metadata": {
      "needs_background": "light"
     },
     "output_type": "display_data"
    }
   ],
   "source": [
    "for i ,(x,y) in enumerate([data_fixed_cov(),data_differ_cov()]):\n",
    "    lda = LinearDiscriminantAnalysis(store_covariance=True)\n",
    "    y_pred= lda.fit(x,y).predict(x)\n",
    "    splot = plot_data(lda,x,y,y_pred,fig_index =2*i+1)\n",
    "\n",
    "    qda = QuadraticDiscriminantAnalysis(store_covariance=True)\n",
    "    y_pred = qda.fit(x,y).predict(x)\n",
    "    splot = plot_data(lda,x,y,y_pred,fig_index =2*i+2)\n",
    "\n",
    "#没有搞清楚这个lda的"
   ],
   "metadata": {
    "collapsed": false,
    "pycharm": {
     "name": "#%%\n"
    }
   }
  },
  {
   "cell_type": "code",
   "execution_count": null,
   "outputs": [],
   "source": [
    "\n"
   ],
   "metadata": {
    "collapsed": false,
    "pycharm": {
     "name": "#%%\n"
    }
   }
  }
 ],
 "metadata": {
  "kernelspec": {
   "display_name": "Python 3",
   "language": "python",
   "name": "python3"
  },
  "language_info": {
   "codemirror_mode": {
    "name": "ipython",
    "version": 2
   },
   "file_extension": ".py",
   "mimetype": "text/x-python",
   "name": "python",
   "nbconvert_exporter": "python",
   "pygments_lexer": "ipython2",
   "version": "2.7.6"
  }
 },
 "nbformat": 4,
 "nbformat_minor": 0
}