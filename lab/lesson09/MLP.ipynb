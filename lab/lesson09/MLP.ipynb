{
 "cells": [
  {
   "cell_type": "code",
   "execution_count": 4,
   "metadata": {
    "collapsed": true
   },
   "outputs": [],
   "source": [
    "import matplotlib.pyplot as plt\n",
    "from sklearn.preprocessing import MinMaxScaler\n",
    "from sklearn import datasets\n",
    "from sklearn.neural_network import MLPClassifier"
   ]
  },
  {
   "cell_type": "code",
   "execution_count": 5,
   "outputs": [],
   "source": [
    "\n",
    "\n",
    "\n",
    "#how to fine the parameter?\n",
    "\n",
    "params=[\n",
    "    {\"solver\":\"sgd\",\n",
    "     \"learning_rate\":\"constant\",\n",
    "     \"momentum\":0,\n",
    "     \"learning_rate_init\":0.2\n",
    "     },\n",
    "    {\"solver\":\"sgd\",\n",
    "     \"learning_rate\":\"constant\",\n",
    "     \"momentum\":0.9,\n",
    "     \"nesterovs_momentum\":False,\n",
    "     \"learning_rate_init\":0.2\n",
    "     },\n",
    "\n",
    "    {\"solver\":\"sgd\",\n",
    "     \"learning_rate\":\"constant\",\n",
    "     \"momentum\":0.9,\n",
    "     \"nesterovs_momentum\":True,\n",
    "     \"learning_rate_init\":0.2\n",
    "     },\n",
    "\n",
    "    {\"solver\":\"sgd\",\n",
    "     \"learning_rate\":\"invscaling\",\n",
    "     \"momentum\":0,\n",
    "     \"learning_rate_init\":0.2\n",
    "     },\n",
    "\n",
    "    {\"solver\":\"sgd\",\n",
    "     \"learning_rate\":\"invscaling\",\n",
    "     \"momentum\":0.9,\n",
    "     \"nesterovs_momentum\":True,\n",
    "     \"learning_rate_init\":0.2\n",
    "     },\n",
    "\n",
    "\n",
    "    {\"solver\":\"sgd\",\n",
    "     \"learning_rate\":\"invscaling\",\n",
    "     \"momentum\":0.9,\n",
    "     \"nesterovs_momentum\":False,\n",
    "     \"learning_rate_init\":0.2\n",
    "     },\n",
    "\n",
    "    {\"solver\":\"sgd\",\n",
    "      \"learning_rate_init\":0.01\n",
    "     },\n",
    "]\n",
    "\n",
    "labels=[\n",
    "    \"constant_lr\",\n",
    "    \"constant_with_momentum\",\n",
    "    \"constant_with_NM\",\n",
    "    \"inv-scaling_lr\",\n",
    "    \"inv-scaling_with_momentum\",\n",
    "    \"inv-scaling_with_NM\"\n",
    "]\n",
    "\n"
   ],
   "metadata": {
    "collapsed": false,
    "pycharm": {
     "name": "#%%\n"
    }
   }
  },
  {
   "cell_type": "code",
   "execution_count": 16,
   "outputs": [],
   "source": [
    "\n",
    "def plot_on_dataset(x,y,ax,name):\n",
    "    ax.set_title(name)\n",
    "    x = MinMaxScaler().fit_transform(x)\n",
    "    mlps = []\n",
    "    for label,param in zip(labels,params):\n",
    "        mlp = MLPClassifier(random_state=0,max_iter=400,**param)\n",
    "        mlp.fit(x,y)\n",
    "        mlps.append(mlp)\n",
    "\n",
    "    for mlp,label in zip(mlps,labels):\n",
    "        ax.plot(mlp.loss_curve_,label = label)\n",
    "\n",
    "\n",
    "\n"
   ],
   "metadata": {
    "collapsed": false,
    "pycharm": {
     "name": "#%%\n"
    }
   }
  },
  {
   "cell_type": "code",
   "execution_count": 17,
   "outputs": [
    {
     "name": "stderr",
     "output_type": "stream",
     "text": [
      "/Users/zhuhe/miniforge3/envs/python_spring02/lib/python3.9/site-packages/sklearn/neural_network/_multilayer_perceptron.py:692: ConvergenceWarning: Stochastic Optimizer: Maximum iterations (400) reached and the optimization hasn't converged yet.\n",
      "  warnings.warn(\n",
      "/Users/zhuhe/miniforge3/envs/python_spring02/lib/python3.9/site-packages/sklearn/neural_network/_multilayer_perceptron.py:692: ConvergenceWarning: Stochastic Optimizer: Maximum iterations (400) reached and the optimization hasn't converged yet.\n",
      "  warnings.warn(\n",
      "/Users/zhuhe/miniforge3/envs/python_spring02/lib/python3.9/site-packages/sklearn/neural_network/_multilayer_perceptron.py:692: ConvergenceWarning: Stochastic Optimizer: Maximum iterations (400) reached and the optimization hasn't converged yet.\n",
      "  warnings.warn(\n",
      "/Users/zhuhe/miniforge3/envs/python_spring02/lib/python3.9/site-packages/sklearn/neural_network/_multilayer_perceptron.py:692: ConvergenceWarning: Stochastic Optimizer: Maximum iterations (400) reached and the optimization hasn't converged yet.\n",
      "  warnings.warn(\n",
      "/Users/zhuhe/miniforge3/envs/python_spring02/lib/python3.9/site-packages/sklearn/neural_network/_multilayer_perceptron.py:692: ConvergenceWarning: Stochastic Optimizer: Maximum iterations (400) reached and the optimization hasn't converged yet.\n",
      "  warnings.warn(\n",
      "/Users/zhuhe/miniforge3/envs/python_spring02/lib/python3.9/site-packages/sklearn/neural_network/_multilayer_perceptron.py:692: ConvergenceWarning: Stochastic Optimizer: Maximum iterations (400) reached and the optimization hasn't converged yet.\n",
      "  warnings.warn(\n"
     ]
    },
    {
     "data": {
      "text/plain": "<Figure size 360x720 with 2 Axes>",
      "image/png": "[encoded data removed]"
     },
     "metadata": {
      "needs_background": "light"
     },
     "output_type": "display_data"
    }
   ],
   "source": [
    "#这个是绘制图像\n",
    "fig,axes = plt.subplots(2,1,figsize =(5,10))\n",
    "iris = datasets.load_iris()\n",
    "x_digits,y_digits =datasets.load_digits(return_X_y=True)\n",
    "data_set = [\n",
    "    (iris.data,iris.target),\n",
    "    (x_digits,y_digits)\n",
    "]\n",
    "\n",
    "for ax,data,name in zip(axes,data_set,['iris','digits']):\n",
    "    plot_on_dataset(data[0],data[1],ax,name)"
   ],
   "metadata": {
    "collapsed": false,
    "pycharm": {
     "name": "#%%\n"
    }
   }
  },
  {
   "cell_type": "code",
   "execution_count": null,
   "outputs": [],
   "source": [
    "\n",
    "\n",
    "\n"
   ],
   "metadata": {
    "collapsed": false,
    "pycharm": {
     "name": "#%%\n"
    }
   }
  }
 ],
 "metadata": {
  "kernelspec": {
   "display_name": "Python 3",
   "language": "python",
   "name": "python3"
  },
  "language_info": {
   "codemirror_mode": {
    "name": "ipython",
    "version": 2
   },
   "file_extension": ".py",
   "mimetype": "text/x-python",
   "name": "python",
   "nbconvert_exporter": "python",
   "pygments_lexer": "ipython2",
   "version": "2.7.6"
  }
 },
 "nbformat": 4,
 "nbformat_minor": 0
}