{
 "cells": [
  {
   "cell_type": "code",
   "execution_count": 1,
   "metadata": {
    "collapsed": true
   },
   "outputs": [
    {
     "data": {
      "text/plain": "{'data': array([[ 82.666664,  87.666664,  65.333336, ..., 106.      , 140.      ,\n         199.33333 ],\n        [ 52.333332,  49.333332,  69.333336, ..., 235.66667 , 228.66667 ,\n         222.      ],\n        [ 37.333332,  39.      ,  41.666668, ...,  97.      ,  71.666664,\n          59.333332],\n        ...,\n        [228.33333 , 224.33333 , 216.      , ..., 149.66667 , 145.66667 ,\n         164.66667 ],\n        [ 97.666664, 118.333336, 133.33333 , ..., 219.      , 210.      ,\n         142.      ],\n        [ 39.333332,  79.333336, 109.333336, ...,  24.333334,  34.333332,\n          24.      ]], dtype=float32),\n 'images': array([[[ 82.666664,  87.666664,  65.333336, ..., 105.666664,\n          100.      ,  90.333336],\n         [ 89.666664,  94.666664,  53.333332, ..., 107.      ,\n          102.333336,  94.666664],\n         [ 94.333336,  87.333336,  60.      , ...,  85.666664,\n           98.      ,  94.333336],\n         ...,\n         [ 22.666666,  26.      ,  32.666668, ..., 102.      ,\n           99.      , 109.      ],\n         [ 22.333334,  25.333334,  29.333334, ..., 107.      ,\n          106.      , 147.33333 ],\n         [ 29.333334,  30.333334,  33.666668, ..., 106.      ,\n          140.      , 199.33333 ]],\n \n        [[ 52.333332,  49.333332,  69.333336, ...,  83.      ,\n           48.333332,  37.666668],\n         [ 42.      ,  46.      ,  71.      , ..., 119.      ,\n           76.333336,  51.      ],\n         [ 38.      ,  50.333332,  78.666664, ..., 145.      ,\n          107.      ,  68.      ],\n         ...,\n         [138.      , 112.333336,  67.666664, ..., 229.      ,\n          225.33333 , 218.      ],\n         [127.333336,  91.333336,  58.666668, ..., 233.      ,\n          227.      , 221.      ],\n         [108.666664,  73.      ,  57.      , ..., 235.66667 ,\n          228.66667 , 222.      ]],\n \n        [[ 37.333332,  39.      ,  41.666668, ...,  84.      ,\n           83.      ,  84.333336],\n         [ 37.333332,  38.      ,  43.333332, ...,  83.      ,\n           80.      ,  83.      ],\n         [ 37.333332,  38.      ,  51.      , ...,  83.666664,\n           82.      ,  81.666664],\n         ...,\n         [ 24.      ,  21.666666,  19.666666, ...,  70.666664,\n           59.333332,  47.      ],\n         [ 23.333334,  21.333334,  19.      , ...,  88.      ,\n           66.666664,  53.666668],\n         [ 21.666666,  21.      ,  20.      , ...,  97.      ,\n           71.666664,  59.333332]],\n \n        ...,\n \n        [[228.33333 , 224.33333 , 216.      , ...,  98.      ,\n           83.      ,  85.333336],\n         [225.33333 , 216.33333 , 200.33333 , ..., 119.      ,\n           94.666664, 100.333336],\n         [223.33333 , 209.      , 195.33333 , ..., 147.33333 ,\n          112.      , 107.666664],\n         ...,\n         [ 54.      ,  47.333332,  39.666668, ..., 139.      ,\n          152.33333 , 157.33333 ],\n         [ 46.666668,  39.      ,  32.666668, ..., 148.      ,\n          154.      , 168.      ],\n         [ 45.333332,  39.666668,  33.      , ..., 149.66667 ,\n          145.66667 , 164.66667 ]],\n \n        [[ 97.666664, 118.333336, 133.33333 , ..., 167.33333 ,\n          155.33333 , 148.33333 ],\n         [102.      , 126.333336, 136.      , ..., 169.      ,\n          160.66667 , 154.33333 ],\n         [114.666664, 131.66667 , 136.      , ..., 173.66667 ,\n          162.66667 , 157.33333 ],\n         ...,\n         [253.66667 , 253.33333 , 252.33333 , ..., 195.66667 ,\n          223.66667 , 223.      ],\n         [253.33333 , 253.      , 252.66667 , ..., 216.      ,\n          220.      , 187.      ],\n         [253.33333 , 252.66667 , 252.      , ..., 219.      ,\n          210.      , 142.      ]],\n \n        [[ 39.333332,  79.333336, 109.333336, ...,  60.666668,\n           57.666668,  49.333332],\n         [ 50.      ,  81.333336, 125.333336, ...,  66.666664,\n           70.      ,  61.333332],\n         [ 62.      , 102.      , 146.33333 , ...,  65.333336,\n           75.333336,  72.      ],\n         ...,\n         [  8.333333,   9.333333,  14.333333, ...,  28.      ,\n           27.333334,  38.666668],\n         [  9.666667,  11.      ,  15.      , ...,  24.333334,\n           29.      ,  39.      ],\n         [  9.666667,  10.      ,  14.      , ...,  24.333334,\n           34.333332,  24.      ]]], dtype=float32),\n 'target': array([2, 3, 1, ..., 4, 2, 4]),\n 'target_names': array(['Colin Powell', 'Donald Rumsfeld', 'George W Bush',\n        'Gerhard Schroeder', 'Tony Blair'], dtype='<U17'),\n 'DESCR': \".. _labeled_faces_in_the_wild_dataset:\\n\\nThe Labeled Faces in the Wild face recognition dataset\\n------------------------------------------------------\\n\\nThis dataset is a collection of JPEG pictures of famous people collected\\nover the internet, all details are available on the official website:\\n\\n    http://vis-www.cs.umass.edu/lfw/\\n\\nEach picture is centered on a single face. The typical task is called\\nFace Verification: given a pair of two pictures, a binary classifier\\nmust predict whether the two images are from the same person.\\n\\nAn alternative task, Face Recognition or Face Identification is:\\ngiven the picture of the face of an unknown person, identify the name\\nof the person by referring to a gallery of previously seen pictures of\\nidentified persons.\\n\\nBoth Face Verification and Face Recognition are tasks that are typically\\nperformed on the output of a model trained to perform Face Detection. The\\nmost popular model for Face Detection is called Viola-Jones and is\\nimplemented in the OpenCV library. The LFW faces were extracted by this\\nface detector from various online websites.\\n\\n**Data Set Characteristics:**\\n\\n    =================   =======================\\n    Classes                                5749\\n    Samples total                         13233\\n    Dimensionality                         5828\\n    Features            real, between 0 and 255\\n    =================   =======================\\n\\nUsage\\n~~~~~\\n\\n``scikit-learn`` provides two loaders that will automatically download,\\ncache, parse the metadata files, decode the jpeg and convert the\\ninteresting slices into memmapped numpy arrays. This dataset size is more\\nthan 200 MB. The first load typically takes more than a couple of minutes\\nto fully decode the relevant part of the JPEG files into numpy arrays. If\\nthe dataset has  been loaded once, the following times the loading times\\nless than 200ms by using a memmapped version memoized on the disk in the\\n``~/scikit_learn_data/lfw_home/`` folder using ``joblib``.\\n\\nThe first loader is used for the Face Identification task: a multi-class\\nclassification task (hence supervised learning)::\\n\\n  >>> from sklearn.datasets import fetch_lfw_people\\n  >>> lfw_people = fetch_lfw_people(min_faces_per_person=70, resize=0.4)\\n\\n  >>> for name in lfw_people.target_names:\\n  ...     print(name)\\n  ...\\n  Ariel Sharon\\n  Colin Powell\\n  Donald Rumsfeld\\n  George W Bush\\n  Gerhard Schroeder\\n  Hugo Chavez\\n  Tony Blair\\n\\nThe default slice is a rectangular shape around the face, removing\\nmost of the background::\\n\\n  >>> lfw_people.data.dtype\\n  dtype('float32')\\n\\n  >>> lfw_people.data.shape\\n  (1288, 1850)\\n\\n  >>> lfw_people.images.shape\\n  (1288, 50, 37)\\n\\nEach of the ``1140`` faces is assigned to a single person id in the ``target``\\narray::\\n\\n  >>> lfw_people.target.shape\\n  (1288,)\\n\\n  >>> list(lfw_people.target[:10])\\n  [5, 6, 3, 1, 0, 1, 3, 4, 3, 0]\\n\\nThe second loader is typically used for the face verification task: each sample\\nis a pair of two picture belonging or not to the same person::\\n\\n  >>> from sklearn.datasets import fetch_lfw_pairs\\n  >>> lfw_pairs_train = fetch_lfw_pairs(subset='train')\\n\\n  >>> list(lfw_pairs_train.target_names)\\n  ['Different persons', 'Same person']\\n\\n  >>> lfw_pairs_train.pairs.shape\\n  (2200, 2, 62, 47)\\n\\n  >>> lfw_pairs_train.data.shape\\n  (2200, 5828)\\n\\n  >>> lfw_pairs_train.target.shape\\n  (2200,)\\n\\nBoth for the :func:`sklearn.datasets.fetch_lfw_people` and\\n:func:`sklearn.datasets.fetch_lfw_pairs` function it is\\npossible to get an additional dimension with the RGB color channels by\\npassing ``color=True``, in that case the shape will be\\n``(2200, 2, 62, 47, 3)``.\\n\\nThe :func:`sklearn.datasets.fetch_lfw_pairs` datasets is subdivided into\\n3 subsets: the development ``train`` set, the development ``test`` set and\\nan evaluation ``10_folds`` set meant to compute performance metrics using a\\n10-folds cross validation scheme.\\n\\n.. topic:: References:\\n\\n * `Labeled Faces in the Wild: A Database for Studying Face Recognition\\n   in Unconstrained Environments.\\n   <http://vis-www.cs.umass.edu/lfw/lfw.pdf>`_\\n   Gary B. Huang, Manu Ramesh, Tamara Berg, and Erik Learned-Miller.\\n   University of Massachusetts, Amherst, Technical Report 07-49, October, 2007.\\n\\n\\nExamples\\n~~~~~~~~\\n\\n:ref:`sphx_glr_auto_examples_applications_plot_face_recognition.py`\\n\"}"
     },
     "execution_count": 1,
     "metadata": {},
     "output_type": "execute_result"
    }
   ],
   "source": [
    "from sklearn.datasets import fetch_lfw_people\n",
    "lfw_people  = fetch_lfw_people(min_faces_per_person=100)\n",
    "lfw_people"
   ]
  },
  {
   "cell_type": "code",
   "execution_count": 13,
   "outputs": [
    {
     "data": {
      "text/plain": "(1140, 62, 47)"
     },
     "execution_count": 13,
     "metadata": {},
     "output_type": "execute_result"
    }
   ],
   "source": [
    "n_samples ,h,w = lfw_people.images.shape\n",
    "n_samples,h,w\n",
    "\n",
    "\n"
   ],
   "metadata": {
    "collapsed": false,
    "pycharm": {
     "name": "#%%\n"
    }
   }
  },
  {
   "cell_type": "code",
   "execution_count": 8,
   "outputs": [
    {
     "data": {
      "text/plain": "PCA(n_components=150, whiten=True)"
     },
     "execution_count": 8,
     "metadata": {},
     "output_type": "execute_result"
    }
   ],
   "source": [
    "#展示图片的代码暂时略过了\n",
    "X= lfw_people.data\n",
    "y = lfw_people.target\n",
    "n_features = X.shape[1]\n",
    "\n",
    "from sklearn.model_selection import train_test_split\n",
    "X_train,X_test,y_train,y_test = train_test_split(X,y,test_size=0.25)\n",
    "\n",
    "\n",
    "#这个是降低维度的代码\n",
    "from sklearn.decomposition import PCA\n",
    "pca =PCA(n_components= 150,whiten=True)\n",
    "pca.fit(X,y)"
   ],
   "metadata": {
    "collapsed": false,
    "pycharm": {
     "name": "#%%\n"
    }
   }
  },
  {
   "cell_type": "code",
   "execution_count": 14,
   "outputs": [
    {
     "data": {
      "text/plain": "array([[[-4.7334107e-03, -5.0653983e-03, -5.5400459e-03, ...,\n         -8.5963495e-03, -8.3345287e-03, -8.6151538e-03],\n        [-4.4690263e-03, -4.9618208e-03, -5.7542538e-03, ...,\n         -8.7378956e-03, -8.4245494e-03, -8.7755350e-03],\n        [-4.7315708e-03, -5.4227826e-03, -6.2775933e-03, ...,\n         -9.1890469e-03, -8.5407626e-03, -9.1055511e-03],\n        ...,\n        [-1.0921258e-03, -3.2691463e-04, -6.7499198e-04, ...,\n         -1.3021044e-02, -1.0993717e-02, -1.0031941e-02],\n        [-1.8643374e-03, -1.2944542e-03, -1.0984773e-03, ...,\n         -1.2371391e-02, -1.0556241e-02, -9.5393155e-03],\n        [-2.4855223e-03, -1.8358192e-03, -1.8118722e-03, ...,\n         -1.1787135e-02, -1.0436019e-02, -9.1720093e-03]],\n\n       [[ 1.7517179e-02,  1.6530834e-02,  1.6366357e-02, ...,\n         -1.8559260e-02, -1.9002605e-02, -1.8798685e-02],\n        [ 1.7376615e-02,  1.6592395e-02,  1.7390665e-02, ...,\n         -1.8600153e-02, -1.9255381e-02, -1.8987125e-02],\n        [ 1.7702160e-02,  1.7225526e-02,  1.8976171e-02, ...,\n         -1.8861454e-02, -1.9733956e-02, -1.9605203e-02],\n        ...,\n        [ 2.1665333e-02,  2.5044797e-02,  2.7650690e-02, ...,\n         -3.4744531e-02, -3.2268133e-02, -2.9156365e-02],\n        [ 2.2049669e-02,  2.5669262e-02,  2.8313860e-02, ...,\n         -3.3583373e-02, -3.1487528e-02, -2.9648183e-02],\n        [ 2.2058632e-02,  2.5185138e-02,  2.8009875e-02, ...,\n         -3.2664597e-02, -3.1689383e-02, -3.0461174e-02]],\n\n       [[ 1.8433511e-02,  1.6844092e-02,  1.6045507e-02, ...,\n          1.8828955e-02,  2.0769741e-02,  2.3410359e-02],\n        [ 1.7697711e-02,  1.6700402e-02,  1.5743723e-02, ...,\n          1.8127590e-02,  1.9698314e-02,  2.2066813e-02],\n        [ 1.7576035e-02,  1.6531309e-02,  1.5376793e-02, ...,\n          1.7494630e-02,  1.8443059e-02,  2.0518279e-02],\n        ...,\n        [ 5.4564606e-02,  5.6276251e-02,  6.0472433e-02, ...,\n          3.7379108e-02,  3.3419643e-02,  2.8991355e-02],\n        [ 4.8985068e-02,  5.1657956e-02,  5.6050215e-02, ...,\n          3.5926335e-02,  3.1221265e-02,  2.7173471e-02],\n        [ 4.5559678e-02,  4.8612420e-02,  5.2709885e-02, ...,\n          3.3601835e-02,  2.9243063e-02,  2.7121788e-02]],\n\n       ...,\n\n       [[-3.5010561e-02, -3.0199464e-02,  6.9570582e-04, ...,\n         -7.6398286e-03,  7.4218288e-03,  2.1024834e-02],\n        [-3.5164684e-02, -2.0406893e-02,  1.5302729e-02, ...,\n         -2.0253401e-02, -4.9020639e-03,  1.5694687e-02],\n        [-3.0676048e-02, -6.2511270e-03,  2.5732109e-02, ...,\n         -2.6747590e-02, -1.3423833e-02,  9.2515750e-03],\n        ...,\n        [ 1.5978776e-02, -1.4119862e-02, -2.9326424e-02, ...,\n         -1.1000133e-02, -8.2771750e-03,  1.8053594e-04],\n        [ 2.9265631e-02,  2.3480814e-03, -1.6956093e-02, ...,\n         -2.0411657e-02,  1.0025102e-02,  3.0275779e-02],\n        [ 2.5513731e-02,  8.8531263e-03, -1.1246756e-02, ...,\n         -7.8932811e-03,  3.6574002e-02,  5.2365661e-02]],\n\n       [[-1.1063047e-02, -1.8671015e-02, -3.5227880e-02, ...,\n         -2.1643372e-02, -3.2927953e-02, -2.5138503e-02],\n        [-4.7861220e-04, -1.0594452e-02, -2.8657774e-02, ...,\n         -4.5049316e-03, -1.8256346e-02, -2.4618339e-02],\n        [ 7.2280471e-03, -2.5909373e-03, -2.1091158e-02, ...,\n          6.0098558e-03, -3.7227082e-03, -1.1613241e-02],\n        ...,\n        [-5.4656621e-03,  5.0128391e-03,  4.2782873e-03, ...,\n          1.8518711e-02, -2.2844449e-02, -1.3417005e-02],\n        [-6.5215495e-03, -3.5840730e-04, -4.7414466e-03, ...,\n          2.0242326e-02, -1.1432726e-02, -2.2618503e-03],\n        [-1.2123174e-02, -9.5962528e-03, -1.4928251e-02, ...,\n          1.7571336e-02,  3.1592057e-03,  1.7971644e-02]],\n\n       [[-4.1854000e-05,  6.5583591e-03,  1.9204969e-02, ...,\n          1.3046830e-02,  6.8132363e-02,  8.3700962e-02],\n        [-1.1880008e-02, -6.5406454e-03,  1.7790647e-02, ...,\n         -1.1634841e-02,  4.3264333e-02,  7.1822591e-02],\n        [-2.8936163e-02, -1.6051402e-02,  1.7672218e-02, ...,\n         -4.2280074e-02,  5.8572041e-03,  4.6681590e-02],\n        ...,\n        [ 2.5109725e-02, -1.3656958e-02, -4.0744137e-02, ...,\n         -3.8485672e-02,  6.9894847e-03,  2.2825319e-02],\n        [ 4.7472075e-02,  1.7983150e-03, -5.5076990e-02, ...,\n         -4.1297652e-02,  2.0683217e-03,  1.3963469e-02],\n        [ 5.2131418e-02,  1.4762311e-02, -3.5388838e-02, ...,\n         -3.0565033e-02,  2.6009514e-03,  2.2291574e-03]]], dtype=float32)"
     },
     "execution_count": 14,
     "metadata": {},
     "output_type": "execute_result"
    }
   ],
   "source": [
    "face = pca.components_.reshape(150,h,w)"
   ],
   "metadata": {
    "collapsed": false,
    "pycharm": {
     "name": "#%%\n"
    }
   }
  },
  {
   "cell_type": "code",
   "execution_count": 16,
   "outputs": [],
   "source": [
    "#CV\n",
    "from sklearn.svm import SVC\n",
    "from  sklearn.model_selection import GridSearchCV\n",
    "X_train_pca = pca.transform(X_train)\n",
    "X_test_pca = pca.transform(X_test)\n",
    "param_grid= {\n",
    "    \"C\":[1e3,998,999,1002],\n",
    "    \"gamma\":[0.0001,0.003,0.0035,0.004,0.0045]\n",
    "\n",
    "}"
   ],
   "metadata": {
    "collapsed": false,
    "pycharm": {
     "name": "#%%\n"
    }
   }
  },
  {
   "cell_type": "code",
   "execution_count": 18,
   "outputs": [
    {
     "data": {
      "text/plain": "SVC(C=1000.0, gamma=0.003)"
     },
     "execution_count": 18,
     "metadata": {},
     "output_type": "execute_result"
    }
   ],
   "source": [
    "clf= GridSearchCV(SVC(kernel='rbf',class_weight=None),param_grid=param_grid)\n",
    "clf.fit(X_train_pca,y_train)\n",
    "clf.best_params_\n",
    "clf.best_estimator_"
   ],
   "metadata": {
    "collapsed": false,
    "pycharm": {
     "name": "#%%\n"
    }
   }
  },
  {
   "cell_type": "code",
   "execution_count": 20,
   "outputs": [
    {
     "data": {
      "text/plain": "SVC(C=1000.0, gamma=0.003)"
     },
     "execution_count": 20,
     "metadata": {},
     "output_type": "execute_result"
    }
   ],
   "source": [
    "clf.best_estimator_\n"
   ],
   "metadata": {
    "collapsed": false,
    "pycharm": {
     "name": "#%%\n"
    }
   }
  },
  {
   "cell_type": "code",
   "execution_count": 21,
   "outputs": [
    {
     "data": {
      "text/plain": "0.8807017543859649"
     },
     "execution_count": 21,
     "metadata": {},
     "output_type": "execute_result"
    }
   ],
   "source": [
    "y_pred = clf.predict(X_test_pca)\n",
    "clf.score(X_test_pca,y_test)\n",
    "\n",
    "\n",
    "\n",
    "\n",
    "#画图省略了，用神经卷积网络会更好\n"
   ],
   "metadata": {
    "collapsed": false,
    "pycharm": {
     "name": "#%%\n"
    }
   }
  },
  {
   "cell_type": "code",
   "execution_count": null,
   "outputs": [],
   "source": [],
   "metadata": {
    "collapsed": false,
    "pycharm": {
     "name": "#%%\n"
    }
   }
  }
 ],
 "metadata": {
  "kernelspec": {
   "display_name": "Python 3",
   "language": "python",
   "name": "python3"
  },
  "language_info": {
   "codemirror_mode": {
    "name": "ipython",
    "version": 2
   },
   "file_extension": ".py",
   "mimetype": "text/x-python",
   "name": "python",
   "nbconvert_exporter": "python",
   "pygments_lexer": "ipython2",
   "version": "2.7.6"
  }
 },
 "nbformat": 4,
 "nbformat_minor": 0
}